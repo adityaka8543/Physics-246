{
  "cells": [
    {
      "cell_type": "markdown",
      "metadata": {
        "id": "view-in-github",
        "colab_type": "text"
      },
      "source": [
        "<a href=\"https://colab.research.google.com/github/adityaka8543/Physics-246/blob/main/N_Ways_of_Measuring_PI_(5).ipynb\" target=\"_parent\"><img src=\"https://colab.research.google.com/assets/colab-badge.svg\" alt=\"Open In Colab\"/></a>"
      ]
    },
    {
      "cell_type": "markdown",
      "metadata": {
        "id": "192OSNYbtX7a"
      },
      "source": [
        "# N ways to measure $\\pi$"
      ]
    },
    {
      "cell_type": "markdown",
      "metadata": {
        "id": "M8TM0GXPtX7h"
      },
      "source": [
        "* **Author:** Aditya Kakarla\n",
        "\n",
        "* **Date:** 09/01/2022\n",
        "\n",
        "* **Time spent on this assignment:** 10 hours "
      ]
    },
    {
      "cell_type": "markdown",
      "metadata": {
        "id": "vT0sR3g-tX7i"
      },
      "source": [
        "Remember to execute this cell to load numpy and pylab."
      ]
    },
    {
      "cell_type": "code",
      "execution_count": 1,
      "metadata": {
        "code_folding": [
          4
        ],
        "id": "X52DIdw-tX7j"
      },
      "outputs": [],
      "source": [
        "import numpy as np\n",
        "import matplotlib.pyplot as plt\n",
        "import math\n",
        "import random\n",
        "def resetMe(keepList=[]):\n",
        "    ll=%who_ls\n",
        "    keepList=keepList+['resetMe','np','plt','math','random']\n",
        "    for iiii in keepList:\n",
        "        if iiii in ll:\n",
        "            ll.remove(iiii)\n",
        "    for iiii in ll:\n",
        "        jjjj=\"^\"+iiii+\"$\"\n",
        "        %reset_selective -f {jjjj}\n",
        "    ll=%who_ls\n",
        "    plt.rcParams.update({\"font.size\": 14})\n",
        "    return\n",
        "import datetime;datetime.datetime.now()\n",
        "resetMe()"
      ]
    },
    {
      "cell_type": "code",
      "execution_count": 1,
      "metadata": {
        "id": "bHPrXFf2tX7o"
      },
      "outputs": [],
      "source": []
    },
    {
      "cell_type": "markdown",
      "metadata": {
        "id": "xybpqchXtX7o"
      },
      "source": [
        "In this project we will consider three different ways of measuring $\\pi$.  "
      ]
    },
    {
      "cell_type": "markdown",
      "metadata": {
        "id": "Sh2OoFHOtX7o"
      },
      "source": [
        "\n",
        "<div class=\"alert alert-info\">\n",
        "Confused about what exactly you need to do?  <br />\n",
        "    <b>Look for the owl emoji 🦉 for instructions</b> <br />\n",
        "</div>"
      ]
    },
    {
      "cell_type": "markdown",
      "metadata": {
        "id": "IdQllbd9tX7r"
      },
      "source": [
        "## Exercise 1: Series"
      ]
    },
    {
      "cell_type": "markdown",
      "metadata": {
        "id": "NWmSPpD-tX7s"
      },
      "source": [
        "* **List of collaborators:**\n",
        "\n",
        "* **References you used in developing your code:**\n",
        "1.  https://www.geeksforgeeks.org/calculate-pi-with-python/, \n",
        "2. https://www.purplefrogsystems.com/blog/2020/03/creating-a-python-function-to-calculate-pi/\n",
        "3.https://arivukalanjiam.wordpress.com/2017/08/02/ramanujans-formula-for-pi-python-code/, \n",
        "4. https://www.greenteapress.com/thinkpython/code/pi\n"
      ]
    },
    {
      "cell_type": "markdown",
      "metadata": {
        "id": "bspzDfP8tX7t"
      },
      "source": [
        "In this exercise we will compute the value of $\\pi$ using a series (a sum of bunch of terms). We will use different series which converge at different rates. "
      ]
    },
    {
      "cell_type": "markdown",
      "metadata": {
        "id": "8ezd20cbtX7t"
      },
      "source": [
        "### a. $\\pi$ from $\\tan$ "
      ]
    },
    {
      "cell_type": "markdown",
      "metadata": {
        "id": "fTNCbfJctX7t"
      },
      "source": [
        "Recall that we can generally find infinite series representations of transcendental functions like $\\sin(x)$. In particlar\n",
        "\n",
        "$$\\tan^{-1}(x) = \\sum_{n=0}^\\infty \\frac{(-1)^n}{2n+1} x^{2n+1} ; -1<x\\leq 1$$\n",
        "\n",
        "Since $\\tan^{-1}(1) = \\pi/4$, we can write the following (slowly converging) infinite series:\n",
        "\n",
        "$$\\frac{\\pi}{4} = \\sum_{n=0}^\\infty \\frac{(-1)^n}{2n+1} = 1 - \\frac{1}{3} + \\frac{1}{5} - \\frac{1}{7} + ...$$\n",
        "\n",
        "If we group adjacent terms in the series we can rewrite this as \n",
        "\n",
        "$$\n",
        "\\begin{align}\n",
        "\\frac{\\pi}{4} = \\sum_{n=0}^\\infty \\frac{(-1)^n}{2n+1} &= \\left(1-\\frac{1}{3}\\right) + \\left(\\frac{1}{5}-\\frac{1}{7}\\right) + \\left(\\frac{1}{9}-\\frac{1}{11}\\right) + ...\\\\\n",
        "&=\\frac{3-1}{3 \\cdot 1} + \\frac{7-5}{7 \\cdot 5} + \\frac{11-9}{11 \\cdot 9}+...\\\\\n",
        "&=\\frac{2}{3}+ \\frac{2}{35}+\\frac{2}{99} + ...\\\\\n",
        "&= \\boxed{2 \\cdot \\sum_{n=0}^\\infty \\left[ \\frac{1}{(4n+3)(4n+1)} \\right]}\n",
        "\\end{align}\n",
        "$$\n",
        "\n",
        "The value of $\\pi$ is $3.14159265358979323846264338327950288419716939937510582...$ though the precision with which your computer can calculate it is probably limited to fewer digits than this.\n",
        "\n",
        "🦉Please write a Python script that calculates an approximation to $\\pi$ using the arctan series **i.e. the boxed formula**, and compare its accuracy after the $n = 10$ term, 100 term, 10,000 term, and 1,000,000 term.\n",
        "\n",
        "There are two ways to approach this.  One of these is by writing a loop (use a conditional statement to print something after the appropriate terms): \n",
        "\n",
        "Start by initializing a few things, then executing a loop that calculates the nth term, with n running from 0 to 999,999, summing the terms as you go."
      ]
    },
    {
      "cell_type": "markdown",
      "metadata": {
        "id": "_cpzi8bytX7z"
      },
      "source": [
        "The other option is to write this in a line or two using list comprehensions. \n",
        "\n",
        "Let us start with a loop."
      ]
    },
    {
      "cell_type": "markdown",
      "metadata": {
        "id": "QIaBQtaZtX70"
      },
      "source": [
        "<div class=\"alert alert-warning\">\n",
        "<b>Do not use the word <code>sum</code> as a variable!</b> <br />Notice how <code>sum</code> is green in a cell - this means it is a special keyword.<br /> \n",
        "</div>"
      ]
    },
    {
      "cell_type": "raw",
      "metadata": {
        "id": "nLOWjjwitX72"
      },
      "source": [
        "*Write your for loop computing the difference from $\\pi$ for a given term in the series below*\n",
        "\n",
        "<img src=\"https://courses.physics.illinois.edu/phys246/fa2022/img/AnsStart.svg\" width=200 align=left></img><br>\n"
      ]
    },
    {
      "cell_type": "code",
      "execution_count": 2,
      "metadata": {
        "colab": {
          "base_uri": "https://localhost:8080/"
        },
        "id": "POfIIz-3tX72",
        "outputId": "9ae77e61-efad-47de-bc45-3979e5e62c61"
      },
      "outputs": [
        {
          "output_type": "stream",
          "name": "stdout",
          "text": [
            "Difference for n =  10 is 2.7551396777563135\n",
            "pi value for = 10 is [3.091623806667838]\n",
            "Difference for n =  100 is 2.7495185679849414\n",
            "pi value for =  100 is [3.1365926848388144]\n",
            "Difference for n =  1000 is 2.7489560718871635\n",
            "pi value for =  1000 is [3.141092653621038]\n",
            "Difference for n =  1000000 is 2.7488936343910555\n",
            "pi value for =  1000000 is [3.141592153589902]\n",
            "References:  https://www.geeksforgeeks.org/calculate-pi-with-python/, https://www.purplefrogsystems.com/blog/2020/03/creating-a-python-function-to-calculate-pi/\n"
          ]
        }
      ],
      "source": [
        "#N = [1000000]\n",
        "#value_of_pi= []\n",
        "#for i in range(0, 1000000, 10*10):\n",
        "    #S=0\n",
        "    #S+=(1/((4*i+3)*(4*i+1)))\n",
        "    #value_of_pi.append(8*S)\n",
        "    #print('Difference for n =  10 is', math.pi-S) #Difference for n = 10\n",
        "\n",
        "\n",
        "# ANSWER ME\n",
        "N = [10]\n",
        "value_of_pi= []\n",
        "for n in N:\n",
        "    S=0\n",
        "    for i in range(n):\n",
        "        S+=(1/((4*i+3)*(4*i+1)))\n",
        "    value_of_pi.append(8*S)\n",
        "    print('Difference for n =  10 is', math.pi-S) #Difference for n = 10\n",
        "\n",
        "print('pi value for = 10 is', value_of_pi) #Value of pi for n = 10\n",
        "\n",
        "N = [100]\n",
        "value_of_pi= []\n",
        "for n in N:\n",
        "    S=0\n",
        "    for i in range(n):\n",
        "        S+=(1/((4*i+3)*(4*i+1)))\n",
        "    value_of_pi.append(8*S)\n",
        "    print('Difference for n =  100 is', math.pi-S) #Difference for n =  100\n",
        "\n",
        "print('pi value for =  100 is', value_of_pi) #Value of pi for n = 100\n",
        "\n",
        "\n",
        "N = [1000]\n",
        "value_of_pi= []\n",
        "for n in N:\n",
        "    S=0\n",
        "    for i in range(n):\n",
        "        S+=(1/((4*i+3)*(4*i+1)))\n",
        "    value_of_pi.append(8*S)\n",
        "    print('Difference for n =  1000 is', math.pi-S) #Difference for n =  1000\n",
        "\n",
        "print('pi value for =  1000 is', value_of_pi) #Value of pi for n = 1000\n",
        "\n",
        "\n",
        "N = [1000000]\n",
        "value_of_pi= []\n",
        "for n in N:\n",
        "    S=0\n",
        "    for i in range(n):\n",
        "        S+=(1/((4*i+3)*(4*i+1)))\n",
        "    value_of_pi.append(8*S)\n",
        "    print('Difference for n =  1000000 is', math.pi-S) #Difference for n =  1000000\n",
        "\n",
        "print('pi value for =  1000000 is', value_of_pi) #Value of pi for n = 1000000\n",
        "\n",
        "print('References:  https://www.geeksforgeeks.org/calculate-pi-with-python/, https://www.purplefrogsystems.com/blog/2020/03/creating-a-python-function-to-calculate-pi/')\n",
        "    "
      ]
    },
    {
      "cell_type": "code",
      "execution_count": 2,
      "metadata": {
        "id": "Fq1LhoXatX74"
      },
      "outputs": [],
      "source": []
    },
    {
      "cell_type": "markdown",
      "metadata": {
        "id": "Pq46Jv1wtX75"
      },
      "source": [
        "<img src=\"https://courses.physics.illinois.edu/phys246/fa2022/img/AnsEnd.svg\" width=200 align=left></img><br>\n"
      ]
    },
    {
      "cell_type": "markdown",
      "metadata": {
        "id": "jw7dRR1btX75"
      },
      "source": [
        "### b. List Comprehensions"
      ]
    },
    {
      "cell_type": "markdown",
      "metadata": {
        "id": "CEOhRIsWtX76"
      },
      "source": [
        "We'll now look deeper at the terms in the series above, in order to practice plotting and analyzing data.\n",
        "\n",
        "Recall that we can store items into a list. A very useful feature about a list is that it can be variable length!\n",
        "To initialize a new list we use `[]`, and can add to it by using the `append()` function"
      ]
    },
    {
      "cell_type": "code",
      "execution_count": 3,
      "metadata": {
        "colab": {
          "base_uri": "https://localhost:8080/"
        },
        "id": "lfMXeCq0tX77",
        "outputId": "1fa35e0e-ef62-4a42-c2eb-e9a3499addc8"
      },
      "outputs": [
        {
          "output_type": "stream",
          "name": "stdout",
          "text": [
            "[10]\n",
            "myList is length 1\n"
          ]
        }
      ],
      "source": [
        "myList = []\n",
        "myList.append(10)\n",
        "print(myList)\n",
        "print(\"myList is length\",len(myList))"
      ]
    },
    {
      "cell_type": "markdown",
      "metadata": {
        "id": "cynCAxxWtX77"
      },
      "source": [
        "This is obviously most useful in a `for` loop, where we can append numbers to the list."
      ]
    },
    {
      "cell_type": "code",
      "execution_count": 4,
      "metadata": {
        "colab": {
          "base_uri": "https://localhost:8080/"
        },
        "id": "976QgItZtX77",
        "outputId": "2a406573-9b01-49fd-f0fa-b97ae9e69250"
      },
      "outputs": [
        {
          "output_type": "stream",
          "name": "stdout",
          "text": [
            "[5, 6, 7, 8, 9]\n",
            "myList is length 5\n"
          ]
        }
      ],
      "source": [
        "myList = [] #don't forget to reset it!\n",
        "for i in range(0,5):\n",
        "    myList.append(i+5)\n",
        "print(myList)\n",
        "print(\"myList is length\",len(myList))"
      ]
    },
    {
      "cell_type": "markdown",
      "metadata": {
        "id": "lcAmBSLktX77"
      },
      "source": [
        "We'll want to plot some lists in a moment. Plotting things in python uses the matplotlib package, imported as `plt`. There are two basic steps for plotting:\n",
        "* `plt.plot(x,y)`\n",
        "    * This tells matplotlib to plot the lists or arrays `x` and `y`. You can also add instructions on how it should look after x,y. If we wanted a dashed line we can use `plt.plot(x,y,'--')` or if we want square points we can use `plt.plot(x,y,'s')`\n",
        "* `plt.show()` \n",
        "    * This tells matplotlib you're done drawing/adding data and to render the image"
      ]
    },
    {
      "cell_type": "code",
      "execution_count": 5,
      "metadata": {
        "colab": {
          "base_uri": "https://localhost:8080/",
          "height": 307
        },
        "id": "Dd3fgkmwtX78",
        "outputId": "334ae17e-9b0b-448a-b94b-13b346b8162c"
      },
      "outputs": [
        {
          "output_type": "display_data",
          "data": {
            "text/plain": [
              "<Figure size 432x288 with 1 Axes>"
            ],
            "image/png": "[encoded data removed]"
          },
          "metadata": {
            "needs_background": "light"
          }
        }
      ],
      "source": [
        "#if we add '--' it will be dashed, and if we add 's' there will be squares. What if we do both?\n",
        "plt.plot(range(0,5),myList)\n",
        "plt.xlabel(\"My x Label\")\n",
        "plt.ylabel(\"My y Label\")\n",
        "plt.title(\"Title of the coolest plot\")\n",
        "plt.show()"
      ]
    },
    {
      "cell_type": "markdown",
      "metadata": {
        "id": "PxXm6YAetX79"
      },
      "source": [
        "🦉Now write code to make two lists, one of each term\n",
        "$$\n",
        "\\frac{1}{(4n+3)(4n+1)}\n",
        "$$\n",
        "in the $tan^{-1}$ series above (you can include the factor of 8 if you like), and another indexing which term it is (you may start numbering at 0 to make it easy). Do this for 100,000 terms.   \n",
        "You'll probably find that the terms in the series look pretty boring. That's because they get small really fast! To see them a little better we can adjust the y-axis to be scalled *logrithmically* rather than *linearly*, by calling `plt.yscale('log')`. (This will be explored later in the course!)"
      ]
    },
    {
      "cell_type": "markdown",
      "metadata": {
        "id": "cp3QGXfTtX79"
      },
      "source": [
        "*Write your code (and generate your plot) below.*\n",
        "\n",
        "<img src=\"https://courses.physics.illinois.edu/phys246/fa2022/img/AnsStart.svg\" width=200 align=left></img><br>\n",
        "\n"
      ]
    },
    {
      "cell_type": "code",
      "execution_count": 6,
      "metadata": {
        "colab": {
          "base_uri": "https://localhost:8080/",
          "height": 307
        },
        "id": "jxFsa6IRtX79",
        "outputId": "20337a82-39a4-4950-cf10-444fa6377567"
      },
      "outputs": [
        {
          "output_type": "display_data",
          "data": {
            "text/plain": [
              "<Figure size 432x288 with 1 Axes>"
            ],
            "image/png": "[encoded data removed]"
          },
          "metadata": {
            "needs_background": "light"
          }
        }
      ],
      "source": [
        "#ANSWER ME\n",
        "\n",
        "my_list = [] \n",
        "x = []   \n",
        "N = 100000\n",
        "for n in range(N): \n",
        "    x.append(n)\n",
        "    my_list.append(1/((4*n+3)*(4*n+1))) \n",
        "\n",
        "\n",
        "\n",
        "plt.plot(range(N), my_list)    # plot the sequences\n",
        "plt.yscale('log')   # set the y scale to logarithmic\n",
        "plt.title('x vs log(y)')    # set the title\n",
        "plt.xlabel('x')   # set the x label\n",
        "plt.ylabel('log(y)')   # set the y label\n",
        "plt.show()       # show the plot\n",
        "    \n",
        "\n",
        " \n",
        " \n",
        "    \n",
        "\n"
      ]
    },
    {
      "cell_type": "markdown",
      "metadata": {
        "id": "ngJJKaZRtX79"
      },
      "source": [
        "<img src=\"https://courses.physics.illinois.edu/phys246/fa2022/img/AnsEnd.svg\" width=200 align=left></img><br>"
      ]
    },
    {
      "cell_type": "markdown",
      "metadata": {
        "id": "GlKrhRfotX79"
      },
      "source": [
        "### c. $\\pi$ from Ramanujan"
      ]
    },
    {
      "cell_type": "markdown",
      "metadata": {
        "id": "JaH0UPDctX79"
      },
      "source": [
        "A much more rapidly converging series was discovered by the brilliant Indian mathematician Srinivasa Ramanujan.  It is\n",
        "\n",
        "$$\\frac{1}{\\pi} = \\frac{2\\sqrt{2}}{9801} \\sum_{k=0}^\\infty \\frac{(4k)!(1103+26390k)}{(k!)^4396^{4k}}$$\n",
        "\n",
        "where $k!$ (\"k factorial\") is $1\\times 2\\times 3\\times ... \\times k$ and $(4k)!$ is $1\\times2\\times3\\times ... \\times 4k$\n",
        "\n",
        "🦉Write a Python script that calculates an approximation to $\\pi$ using the Ramanujan series, and comment on its accuracy after 1, 2, and 3 terms. (Recall that the value of $\\pi$ is 3.14159265358979323846264338327950288419716939937510582...)\n",
        "\n",
        "Note that there are even faster-converging formulas than this! One, mentioned in Wolfram MathWorld[<sup>1</sup>](#fn1), adds 50 digits of precision for each additional term.\n"
      ]
    },
    {
      "cell_type": "markdown",
      "metadata": {
        "id": "AK0gdRYNtX7-"
      },
      "source": [
        "*Please put your loop showing your approximation to $\\pi$ below.  To see how close you are to $\\pi$ one thing you can do is to measure `-np.log(np.abs(ans-np.pi))`.  This measures the difference from $\\pi$ and then converts this difference to a logarithm so large numbers are very close.*\n",
        "\n",
        "<img src=\"https://courses.physics.illinois.edu/phys246/fa2022/img/AnsStart.svg\" width=200 align=left></img><br>\n"
      ]
    },
    {
      "cell_type": "code",
      "execution_count": 7,
      "metadata": {
        "colab": {
          "base_uri": "https://localhost:8080/"
        },
        "id": "wBcsmiZYtX7-",
        "outputId": "1712e224-4de8-4c3c-d6c6-2c5146e034e9"
      },
      "outputs": [
        {
          "output_type": "stream",
          "name": "stdout",
          "text": [
            " n=1 , A=3.1415927300133055\n",
            "n=1 term, the difference is: 16.386975434097835\n",
            " n=2 , A=3.1415926535897936\n",
            "n=2 term, the difference is: 35.35050620855721\n",
            " n=3 , A=3.141592653589793\n",
            "n=3 term, the difference is: inf\n",
            "References: https://arivukalanjiam.wordpress.com/2017/08/02/ramanujans-formula-for-pi-python-code/, https://www.greenteapress.com/thinkpython/code/pi.py\n"
          ]
        },
        {
          "output_type": "stream",
          "name": "stderr",
          "text": [
            "/usr/local/lib/python3.7/dist-packages/ipykernel_launcher.py:7: RuntimeWarning: divide by zero encountered in log\n",
            "  import sys\n"
          ]
        }
      ],
      "source": [
        "# ANSWER ME\n",
        "A=0 \n",
        "for i in range(3): \n",
        "  A+=((math.factorial(4*i))*(1103+26390*i))/((math.factorial(i)**4) * 396**(4*i)) \n",
        "  print(f' n={i+1} , A={1/((2*math.sqrt(2)/9801)*A)}') \n",
        "  ans = 1/((2*math.sqrt(2)/9801)*A)\n",
        "  print(f'n={i+1} term, the difference is: {-np.log(np.abs(ans-np.pi))}')\n",
        "  #print(f'n={i+1} term, the difference is: {-np.log(np.abs(ans-np.pi))}')\n",
        "print(\"References: https://arivukalanjiam.wordpress.com/2017/08/02/ramanujans-formula-for-pi-python-code/, https://www.greenteapress.com/thinkpython/code/pi.py\")\n",
        "    "
      ]
    },
    {
      "cell_type": "markdown",
      "metadata": {
        "id": "oIyQRftrtX7-"
      },
      "source": [
        "<img src=\"https://courses.physics.illinois.edu/phys246/fa2022/img/AnsEnd.svg\" width=200 align=left></img><br>\n"
      ]
    },
    {
      "cell_type": "markdown",
      "metadata": {
        "id": "HDda61EttX7_"
      },
      "source": [
        "## Exercise 2: Archimedes"
      ]
    },
    {
      "cell_type": "markdown",
      "metadata": {
        "id": "uZrOleYMtX7_"
      },
      "source": [
        "* **List of collaborators:**\n",
        "\n",
        "* **References you used in developing your code:**\n",
        "1. https://www.geeksforgeeks.org/how-to-draw-a-circle-using-matplotlib-in-python/\n",
        "2. https://www.pythonpool.com/matplotlib-circle/\n",
        "3. https://stackoverflow.com/questions/43971259/how-to-draw-polygons-with-python\n",
        "4. https://www.programcreek.com/python/?CodeExample=draw+polygon\n",
        "5. https://www.tutorialspoint.com/program-to-find-perimeter-of-a-polygon-in-python\"\n",
        "6. https://matplotlib.org/stable/api/_as_gen/matplotlib.patches.Polygon.html"
      ]
    },
    {
      "cell_type": "markdown",
      "metadata": {
        "id": "pMSVUX4xtX7_"
      },
      "source": [
        "Archimedes was an ancient greek who lived in 287 BC ([wikipedia](https://en.wikipedia.org/wiki/Archimedes)).  He developed a way to approximate $\\pi$ by estimating the circumference of the circle $C$ of known radius $r$ by a series of polygons inscribed within the circle.  Once we know the circumference, $C=2\\pi r$ and therefore $\\pi = C/(2r)$.   \n",
        "\n",
        "**Note:** don't worry about using $\\pi$ in your code below!"
      ]
    },
    {
      "cell_type": "markdown",
      "metadata": {
        "id": "2IN8Ba15tX7_"
      },
      "source": [
        "### a. Drawing a circle"
      ]
    },
    {
      "cell_type": "markdown",
      "metadata": {
        "id": "n_Cq8KthtX7_"
      },
      "source": [
        "🦉Start by defining a function `DrawCircle()` which plots a circle (but don't call `plt.show()` at the end of it.)  You can then generate your circle by doing\n",
        "\n",
        "```\n",
        "DrawCircle()\n",
        "plt.axis('scaled') # this makes your circle look like a circle and not an oval\n",
        "plt.show()\n",
        "```\n",
        "\n",
        "Recall that the for a circle of radius $r$,\n",
        "\n",
        "$x=r\\cos\\theta \\hspace{2cm} y=r\\sin\\theta$\n",
        "\n",
        "where $0 \\leq \\theta \\leq 2\\pi$. Plot all points starting with $\\theta=0$ with increments of $d\\theta=0.0001$ until you get to $2\\pi$.   In this problem, we will work with a circle of radius $r=1$.  \n"
      ]
    },
    {
      "cell_type": "markdown",
      "metadata": {
        "id": "j3ohEf_utX7_"
      },
      "source": [
        "*Draw your circle below!*\n",
        "\n",
        "<img src=\"https://courses.physics.illinois.edu/phys246/fa2022/img/AnsStart.svg\" width=200 align=left></img><br>\n"
      ]
    },
    {
      "cell_type": "code",
      "execution_count": 8,
      "metadata": {
        "colab": {
          "base_uri": "https://localhost:8080/",
          "height": 287
        },
        "id": "bPRyqYCVtX8A",
        "outputId": "9a7db875-79d0-4a51-b966-23582d9a8a03"
      },
      "outputs": [
        {
          "output_type": "display_data",
          "data": {
            "text/plain": [
              "<Figure size 432x288 with 1 Axes>"
            ],
            "image/png": "[encoded data removed]"
          },
          "metadata": {
            "needs_background": "light"
          }
        },
        {
          "output_type": "stream",
          "name": "stdout",
          "text": [
            "References: https://www.geeksforgeeks.org/how-to-draw-a-circle-using-matplotlib-in-python/, https://www.pythonpool.com/matplotlib-circle/\n"
          ]
        }
      ],
      "source": [
        "# ANSWER ME\n",
        "\n",
        "\n",
        "def DrawCircle ():\n",
        "    theta = 0\n",
        "    change_in_theta = 0.0001\n",
        "    radius = 1\n",
        "    x = []\n",
        "    y = []\n",
        "    while theta <= 2 * math.pi:\n",
        "        x.append(math.cos (theta))\n",
        "        y.append(math.sin (theta))\n",
        "        theta += change_in_theta\n",
        "    plt.plot (x, y)\n",
        "\n",
        "DrawCircle ()    \n",
        "plt.axis ('scaled')\n",
        "plt.show ()\n",
        "\n",
        "print(\"References: https://www.geeksforgeeks.org/how-to-draw-a-circle-using-matplotlib-in-python/, https://www.pythonpool.com/matplotlib-circle/\")"
      ]
    },
    {
      "cell_type": "markdown",
      "metadata": {
        "id": "aL9K07DItX8A"
      },
      "source": [
        "<img src=\"https://courses.physics.illinois.edu/phys246/fa2022/img/AnsEnd.svg\" width=200 align=left></img><br>\n"
      ]
    },
    {
      "cell_type": "markdown",
      "metadata": {
        "id": "mbJGpeQGtX8A"
      },
      "source": [
        "### b. Drawing a polygon"
      ]
    },
    {
      "cell_type": "markdown",
      "metadata": {
        "id": "0UYbFYtZtX8A"
      },
      "source": [
        "🦉Now that you can draw a circle, the next step is to draw a polygon inside the circle.  Write a function `DrawPolygon(N)`. The points of a $N$-sided polygon should be at angles $2\\pi/N$.  You should add an extra point at the end so your polygon looks closed. \n",
        "\n",
        "Use your function to draw a 5-sided polygon (after drawing the circle):\n",
        "```\n",
        "DrawCircle()\n",
        "DrawPolygon(5)\n",
        "plt.show()\n",
        "```"
      ]
    },
    {
      "cell_type": "markdown",
      "metadata": {
        "id": "kCjX4JywtX8A"
      },
      "source": [
        "*Write below your function to draw a $N$ sided polygon and then use it to draw a 5-sided polygon.  You can use* `dTheta = 2*np.pi/N` *in your function.*\n",
        "\n",
        "<img src=\"https://courses.physics.illinois.edu/phys246/fa2022/img/AnsStart.svg\" width=200 align=left></img><br>"
      ]
    },
    {
      "cell_type": "code",
      "execution_count": null,
      "metadata": {
        "id": "y-9Ee6bOtX8A",
        "outputId": "b9dd365a-fdb8-49c7-dabe-ffedaf54e2e0"
      },
      "outputs": [
        {
          "data": {
            "image/png": "[encoded data removed]",
            "text/plain": [
              "<Figure size 432x288 with 1 Axes>"
            ]
          },
          "metadata": {
            "needs_background": "light"
          },
          "output_type": "display_data"
        },
        {
          "name": "stdout",
          "output_type": "stream",
          "text": [
            "References: https://stackoverflow.com/questions/43971259/how-to-draw-polygons-with-python, https://www.programcreek.com/python/?CodeExample=draw+polygon\n"
          ]
        }
      ],
      "source": [
        "# ANSWER ME\n",
        "def DrawPolygon(N):\n",
        "    x = []\n",
        "    y = []\n",
        "    #theta = 0\n",
        "    for i in range(N):\n",
        "        dTheta = 2*np.pi/N\n",
        "        x.append(np.cos(dTheta*i))\n",
        "        y.append(np.sin(dTheta*i))\n",
        "        #theta += dTheta\n",
        "    x.append(np.cos(0))\n",
        "    y.append(np.sin(0))\n",
        "    plt.plot(x,y)\n",
        "\n",
        "DrawCircle()\n",
        "DrawPolygon(5)\n",
        "plt.axis ('scaled')\n",
        "plt.show()\n",
        "print(\"References: https://stackoverflow.com/questions/43971259/how-to-draw-polygons-with-python, https://www.programcreek.com/python/?CodeExample=draw+polygon\")"
      ]
    },
    {
      "cell_type": "markdown",
      "metadata": {
        "id": "3sGOZz5atX8B"
      },
      "source": [
        "<img src=\"https://courses.physics.illinois.edu/phys246/fa2022/img/AnsEnd.svg\" width=200 align=left></img><br>\n"
      ]
    },
    {
      "cell_type": "markdown",
      "metadata": {
        "id": "AxjVrdn-tX8I"
      },
      "source": [
        "### c. Python Fun - List Comprehensions "
      ]
    },
    {
      "cell_type": "markdown",
      "metadata": {
        "id": "d0fA3YO7tX8J"
      },
      "source": [
        "A cool Python feature is list comprehensions. Instead of writing a `for` loop, if we're clever we can stuff everything into one line inside a list, and python will be able to fill out the list faster than doing an `append()`.  \n",
        "Check out the example below:"
      ]
    },
    {
      "cell_type": "code",
      "execution_count": null,
      "metadata": {
        "id": "9KOVGRz6tX8J",
        "outputId": "11d587d7-5b9d-4afd-e744-1c3ae4708dca"
      },
      "outputs": [
        {
          "name": "stdout",
          "output_type": "stream",
          "text": [
            "slowList= [-5, -4, -3, -2, -1]\n",
            "fastList= [-5, -4, -3, -2, -1]\n"
          ]
        }
      ],
      "source": [
        "slowList = []\n",
        "for i in range(0,5):\n",
        "    slowList.append(i-5)\n",
        "# now we rearrange the syntax, so what we want each element to be\n",
        "# is *first* and the for loop statement is after\n",
        "fastList = [i-5 for i in range(0,5)]\n",
        "print(\"slowList=\",slowList)\n",
        "print(\"fastList=\",fastList)"
      ]
    },
    {
      "cell_type": "markdown",
      "metadata": {
        "id": "9aOh685vtX8J"
      },
      "source": [
        "🦉Try rewriting your answer to **b.** to use list comprehensions, turning any `for` loops you had into one line. At the end of the day, you'll want a line that generates your `x` points and another that has your `y` points, for example. \n",
        "\n",
        "*Optional:* In addition, you could turn your perimeter code into one line, by making a list of distances and summing them all using `np.sum`. Don't worry about this for now, you'll get plenty of practice later!"
      ]
    },
    {
      "cell_type": "markdown",
      "metadata": {
        "id": "TYV5P3Z2tX8J"
      },
      "source": [
        "<img src=\"https://courses.physics.illinois.edu/phys246/fa2022/img/AnsStart.svg\" width=200 align=left></img><br>"
      ]
    },
    {
      "cell_type": "code",
      "execution_count": null,
      "metadata": {
        "id": "8K9n--0utX8J",
        "outputId": "59f5dae6-c3cd-49a9-ae9b-f7ade59b4812"
      },
      "outputs": [
        {
          "data": {
            "image/png": "[encoded data removed]",
            "text/plain": [
              "<Figure size 432x288 with 1 Axes>"
            ]
          },
          "metadata": {
            "needs_background": "light"
          },
          "output_type": "display_data"
        }
      ],
      "source": [
        "def Polygon2(N):\n",
        "    x = [np.cos(2*np.pi*i/N) for i in range(N)]\n",
        "    y = [np.sin(2*np.pi*i/N) for i in range(N)]\n",
        "    x.append(np.cos(0))\n",
        "    y.append(np.sin(0))\n",
        "    plt.plot(x,y)\n",
        "    return (x,y)\n",
        "DrawCircle()\n",
        "Polygon2(5)\n",
        "plt.axis ('scaled')\n",
        "plt.show()"
      ]
    },
    {
      "cell_type": "markdown",
      "metadata": {
        "id": "WS9ckOvmtX8K"
      },
      "source": [
        "<img src=\"https://courses.physics.illinois.edu/phys246/fa2022/img/AnsEnd.svg\" width=200 align=left></img><br>\n"
      ]
    },
    {
      "cell_type": "markdown",
      "metadata": {
        "id": "ABGqmPkBtX8K"
      },
      "source": [
        "🦉Modify your function above to return the perimeter of the polygon that you drew. Now make a plot of the estimate of $\\pi$ ($C/2$) from a $N$-sided polygon as a function of $3<N<100$.   \n",
        "\n",
        "How close is your answer to $\\pi$ for $N=100$?\n"
      ]
    },
    {
      "cell_type": "markdown",
      "metadata": {
        "id": "wxJ-Ux-etX8K"
      },
      "source": [
        "*Have your function return the perimeter of your polygon which should be an approximation of $2\\pi$.  You can copy it from above or just change the above function (and call it down here).  Also include your code (and plot) that shows how far you are from $\\pi$.  You might want to use `plt.axhline(np.pi,linestyle='--')` to draw a line where $\\pi$ is on your plot.  Also include below how close you get for $N=100$.*\n",
        "\n",
        "<img src=\"https://courses.physics.illinois.edu/phys246/fa2022/img/AnsStart.svg\" width=200 align=left></img><br>"
      ]
    },
    {
      "cell_type": "code",
      "execution_count": 9,
      "metadata": {
        "colab": {
          "base_uri": "https://localhost:8080/",
          "height": 365
        },
        "id": "xk9raKy7tX8K",
        "outputId": "a44fce8b-a067-4e89-ec3b-de1b060fe938"
      },
      "outputs": [
        {
          "output_type": "error",
          "ename": "NameError",
          "evalue": "ignored",
          "traceback": [
            "\u001b[0;31m---------------------------------------------------------------------------\u001b[0m",
            "\u001b[0;31mNameError\u001b[0m                                 Traceback (most recent call last)",
            "\u001b[0;32m<ipython-input-9-8b0fe9cec892>\u001b[0m in \u001b[0;36m<module>\u001b[0;34m\u001b[0m\n\u001b[1;32m     12\u001b[0m     \u001b[0;32mreturn\u001b[0m \u001b[0mnp\u001b[0m\u001b[0;34m.\u001b[0m\u001b[0msum\u001b[0m\u001b[0;34m(\u001b[0m\u001b[0md\u001b[0m\u001b[0;34m)\u001b[0m\u001b[0;34m\u001b[0m\u001b[0;34m\u001b[0m\u001b[0m\n\u001b[1;32m     13\u001b[0m \u001b[0mN\u001b[0m \u001b[0;34m=\u001b[0m \u001b[0mnp\u001b[0m\u001b[0;34m.\u001b[0m\u001b[0marange\u001b[0m\u001b[0;34m(\u001b[0m\u001b[0;36m3\u001b[0m\u001b[0;34m,\u001b[0m \u001b[0;36m100\u001b[0m\u001b[0;34m)\u001b[0m\u001b[0;34m\u001b[0m\u001b[0;34m\u001b[0m\u001b[0m\n\u001b[0;32m---> 14\u001b[0;31m \u001b[0mperim\u001b[0m \u001b[0;34m=\u001b[0m \u001b[0;34m[\u001b[0m\u001b[0mperimeter\u001b[0m\u001b[0;34m(\u001b[0m\u001b[0mi\u001b[0m\u001b[0;34m)\u001b[0m \u001b[0;32mfor\u001b[0m \u001b[0mi\u001b[0m \u001b[0;32min\u001b[0m \u001b[0mN\u001b[0m\u001b[0;34m]\u001b[0m\u001b[0;34m\u001b[0m\u001b[0;34m\u001b[0m\u001b[0m\n\u001b[0m\u001b[1;32m     15\u001b[0m \u001b[0mplt\u001b[0m\u001b[0;34m.\u001b[0m\u001b[0mplot\u001b[0m\u001b[0;34m(\u001b[0m\u001b[0mN\u001b[0m\u001b[0;34m,\u001b[0m \u001b[0mperim\u001b[0m\u001b[0;34m)\u001b[0m\u001b[0;34m\u001b[0m\u001b[0;34m\u001b[0m\u001b[0m\n\u001b[1;32m     16\u001b[0m \u001b[0mplt\u001b[0m\u001b[0;34m.\u001b[0m\u001b[0maxhline\u001b[0m\u001b[0;34m(\u001b[0m\u001b[0mnp\u001b[0m\u001b[0;34m.\u001b[0m\u001b[0mpi\u001b[0m\u001b[0;34m,\u001b[0m \u001b[0mlinestyle\u001b[0m\u001b[0;34m=\u001b[0m\u001b[0;34m'--'\u001b[0m\u001b[0;34m)\u001b[0m\u001b[0;34m\u001b[0m\u001b[0;34m\u001b[0m\u001b[0m\n",
            "\u001b[0;32m<ipython-input-9-8b0fe9cec892>\u001b[0m in \u001b[0;36m<listcomp>\u001b[0;34m(.0)\u001b[0m\n\u001b[1;32m     12\u001b[0m     \u001b[0;32mreturn\u001b[0m \u001b[0mnp\u001b[0m\u001b[0;34m.\u001b[0m\u001b[0msum\u001b[0m\u001b[0;34m(\u001b[0m\u001b[0md\u001b[0m\u001b[0;34m)\u001b[0m\u001b[0;34m\u001b[0m\u001b[0;34m\u001b[0m\u001b[0m\n\u001b[1;32m     13\u001b[0m \u001b[0mN\u001b[0m \u001b[0;34m=\u001b[0m \u001b[0mnp\u001b[0m\u001b[0;34m.\u001b[0m\u001b[0marange\u001b[0m\u001b[0;34m(\u001b[0m\u001b[0;36m3\u001b[0m\u001b[0;34m,\u001b[0m \u001b[0;36m100\u001b[0m\u001b[0;34m)\u001b[0m\u001b[0;34m\u001b[0m\u001b[0;34m\u001b[0m\u001b[0m\n\u001b[0;32m---> 14\u001b[0;31m \u001b[0mperim\u001b[0m \u001b[0;34m=\u001b[0m \u001b[0;34m[\u001b[0m\u001b[0mperimeter\u001b[0m\u001b[0;34m(\u001b[0m\u001b[0mi\u001b[0m\u001b[0;34m)\u001b[0m \u001b[0;32mfor\u001b[0m \u001b[0mi\u001b[0m \u001b[0;32min\u001b[0m \u001b[0mN\u001b[0m\u001b[0;34m]\u001b[0m\u001b[0;34m\u001b[0m\u001b[0;34m\u001b[0m\u001b[0m\n\u001b[0m\u001b[1;32m     15\u001b[0m \u001b[0mplt\u001b[0m\u001b[0;34m.\u001b[0m\u001b[0mplot\u001b[0m\u001b[0;34m(\u001b[0m\u001b[0mN\u001b[0m\u001b[0;34m,\u001b[0m \u001b[0mperim\u001b[0m\u001b[0;34m)\u001b[0m\u001b[0;34m\u001b[0m\u001b[0;34m\u001b[0m\u001b[0m\n\u001b[1;32m     16\u001b[0m \u001b[0mplt\u001b[0m\u001b[0;34m.\u001b[0m\u001b[0maxhline\u001b[0m\u001b[0;34m(\u001b[0m\u001b[0mnp\u001b[0m\u001b[0;34m.\u001b[0m\u001b[0mpi\u001b[0m\u001b[0;34m,\u001b[0m \u001b[0mlinestyle\u001b[0m\u001b[0;34m=\u001b[0m\u001b[0;34m'--'\u001b[0m\u001b[0;34m)\u001b[0m\u001b[0;34m\u001b[0m\u001b[0;34m\u001b[0m\u001b[0m\n",
            "\u001b[0;31mNameError\u001b[0m: name 'perimeter' is not defined"
          ]
        }
      ],
      "source": [
        "def Polygon2(N):\n",
        "    x = [np.cos(2*np.pi*i/N) for i in range(N)]\n",
        "    y = [np.sin(2*np.pi*i/N) for i in range(N)]\n",
        "    x.append(np.cos(0))\n",
        "    y.append(np.sin(0))\n",
        "    plt.plot(x,y)\n",
        "    return (x,y)\n",
        "\n",
        "def perimeter_of_polygon(N):\n",
        "    x, y= Polygon2(N)\n",
        "    d = [np.sqrt((x[i]-x[i-1])**2 + (y[i]-y[i-1])**2) for i in range(N)]\n",
        "    return np.sum(d)\n",
        "N = np.arange(3, 100)\n",
        "perim = [perimeter(i) for i in N]\n",
        "plt.plot(N, perim)\n",
        "plt.axhline(np.pi, linestyle='--')\n",
        "plt.xlabel('N')\n",
        "plt.ylabel('Perimeter')\n",
        "plt.title('Perimeter of N-sided polygon')\n",
        "plt.show()\n",
        "print('The perimeter of a Polygon with a 100 sides is', perimeter(100))\n",
        "print('The difference between the perimeter and pi is', np.abs(perimeter(100)-np.pi))\n",
        "print(\"References: https://matplotlib.org/stable/api/_as_gen/matplotlib.patches.Polygon.html\")"
      ]
    },
    {
      "cell_type": "markdown",
      "metadata": {
        "id": "2N8vj_5_tX8L"
      },
      "source": [
        "<img src=\"https://courses.physics.illinois.edu/phys246/fa2022/img/AnsEnd.svg\" width=200 align=left></img><br>"
      ]
    },
    {
      "cell_type": "markdown",
      "metadata": {
        "id": "xuJZ662XtX8L"
      },
      "source": [
        "### d.  Inscribed Polygon (EC) (Extra Credit: 5 points)"
      ]
    },
    {
      "cell_type": "markdown",
      "metadata": {
        "id": "7wclRObYtX8L"
      },
      "source": [
        "Do the same thing you did earlier but use both the inscribed and circumscribed polygons.  Show that you approach $\\pi$ from above and below. "
      ]
    },
    {
      "cell_type": "markdown",
      "metadata": {
        "id": "9Bsx44HLtX8M"
      },
      "source": [
        "<img src=\"https://courses.physics.illinois.edu/phys246/fa2022/img/AnsStart.svg\" width=200 align=left></img><br>"
      ]
    },
    {
      "cell_type": "code",
      "execution_count": null,
      "metadata": {
        "id": "k0aIEHpBtX8M",
        "outputId": "cae99086-ac6b-434c-bea0-7f57c1466d14"
      },
      "outputs": [
        {
          "data": {
            "image/png": "[encoded data removed]",
            "text/plain": [
              "<Figure size 432x288 with 1 Axes>"
            ]
          },
          "metadata": {
            "needs_background": "light"
          },
          "output_type": "display_data"
        },
        {
          "name": "stdout",
          "output_type": "stream",
          "text": [
            "The perimeter of a Polygon with a 100 sides is 6.219330297469402\n",
            "The difference between the perimeter and pi is 3.077737643879609\n"
          ]
        },
        {
          "data": {
            "image/png": "[encoded data removed]",
            "text/plain": [
              "<Figure size 432x288 with 1 Axes>"
            ]
          },
          "metadata": {
            "needs_background": "light"
          },
          "output_type": "display_data"
        }
      ],
      "source": [
        "def Polygon2(N):\n",
        "    x = [np.cos(2*np.pi*i/N) for i in range(N)]\n",
        "    y = [np.sin(2*np.pi*i/N) for i in range(N)]\n",
        "    x.append(np.cos(0))\n",
        "    y.append(np.sin(0))\n",
        "    plt.plot(x,y)\n",
        "    return (x,y)\n",
        "\n",
        "def perimeter_of_polygon(N):\n",
        "    x, y= Polygon2(N)\n",
        "    d = [np.sqrt((x[i]-x[i-1])**2 + (y[i]-y[i-1])**2) for i in range(N)]\n",
        "    return np.sum(d)\n",
        "\n",
        "# Defining the number of sides of the polygon\n",
        "N = np.arange(3, 100)\n",
        "\n",
        "# Calculating the perimeter of the polygon\n",
        "perim = [perimeter(i) for i in N]\n",
        "\n",
        "# Plotting the perimeter of the polygon\n",
        "plt.plot(N, perim)\n",
        "plt.axhline(np.pi, linestyle='--')\n",
        "plt.xlabel('N')\n",
        "plt.ylabel('Perimeter')\n",
        "plt.title('Perimeter of N-sided polygon')\n",
        "plt.show()\n",
        "print('The perimeter of a Polygon with a 100 sides is', perimeter(100))\n",
        "print('The difference between the perimeter and pi is', np.abs(perimeter(100)-np.pi))"
      ]
    },
    {
      "cell_type": "markdown",
      "metadata": {
        "id": "o9LAR5t-tX8R"
      },
      "source": [
        "<img src=\"https://courses.physics.illinois.edu/phys246/fa2022/img/AnsEnd.svg\" width=200 align=left></img><br>"
      ]
    },
    {
      "cell_type": "code",
      "execution_count": null,
      "metadata": {
        "id": "7eqN_oHntX8R",
        "outputId": "77228a5d-5c66-4a00-951b-fb203d276855"
      },
      "outputs": [
        {
          "data": {
            "image/png": "[encoded data removed]",
            "text/plain": [
              "<Figure size 432x288 with 1 Axes>"
            ]
          },
          "metadata": {
            "needs_background": "light"
          },
          "output_type": "display_data"
        },
        {
          "name": "stdout",
          "output_type": "stream",
          "text": [
            "The perimeter of a 100-sided polygon is 6.282151815625658\n",
            "The difference between the perimeter and pi is 3.1405591620358653\n"
          ]
        }
      ],
      "source": [
        "def perimeter(N):\n",
        "    \"\"\"\n",
        "    This function takes the number of sides of a polygon as input and returns the perimeter of the polygon.\n",
        "    \"\"\"\n",
        "    x, y = polygon(N)\n",
        "    d = [np.sqrt((x[i]-x[i-1])**2 + (y[i]-y[i-1])**2) for i in range(N)]\n",
        "    return np.sum(d)\n",
        "\n",
        "# Defining the number of sides of the polygon\n",
        "N = np.arange(3, 100)\n",
        "\n",
        "# Calculating the perimeter of the polygon\n",
        "perim = [perimeter(i) for i in N]\n",
        "\n",
        "# Plotting the perimeter of the polygon\n",
        "plt.plot(N, perim)\n",
        "plt.axhline(np.pi, linestyle='--')\n",
        "plt.xlabel('N')\n",
        "plt.ylabel('Perimeter')\n",
        "plt.title('Perimeter of N-sided polygon')\n",
        "plt.show()\n",
        "\n",
        "# Printing the perimeter of a 100-sided polygon\n",
        "print('The perimeter of a 100-sided polygon is', perimeter(100))\n",
        "\n",
        "# Printing the difference between the perimeter and pi\n",
        "print('The difference between the perimeter and pi is', np.abs(perimeter(100)-np.pi))"
      ]
    },
    {
      "cell_type": "markdown",
      "metadata": {
        "id": "tY5SXEcXtX8R"
      },
      "source": [
        "## Exercise 3: Throwing Darts"
      ]
    },
    {
      "cell_type": "markdown",
      "metadata": {
        "id": "Se-IpRKqtX8R"
      },
      "source": [
        "* **List of collaborators:**\n",
        "\n",
        "* **References you used in developing your code:**\n",
        "1. https://matplotlib.org/stable/api/_as_gen/matplotlib.axes.Axes.add_patch.html\n",
        "2. https://www.tutorialspoint.com/how-do-i-put-a-circle-with-annotation-in-matplotlib\n",
        "3.  https://docs.python.org/3/library/random.html."
      ]
    },
    {
      "cell_type": "markdown",
      "metadata": {
        "id": "weNkAWsXtX8R"
      },
      "source": [
        "In this exercise, we will compute $\\pi$ by (*in silico*[<sup>2</sup>](#fn2)) throwing darts at a board.  To do this,  we are going to need to use random numbers.\n",
        "You can read about Python’s (pseudo)random number generating functions here: https://docs.python.org/3/library/random.html. They live in the `random` library, and can be imported using `import random`. Here’s a snippet of code that generates a sequence of random numbers between -1 and 1."
      ]
    },
    {
      "cell_type": "code",
      "execution_count": null,
      "metadata": {
        "id": "wB6bDhmCtX8R",
        "outputId": "bc8a47d8-0f62-4f2e-8472-faa70273143b"
      },
      "outputs": [
        {
          "name": "stdout",
          "output_type": "stream",
          "text": [
            "0.05154422448246532\n",
            "-0.5462532786372669\n",
            "-0.48786992561340936\n",
            "-0.5289569630112982\n",
            "-0.6570529550822657\n",
            "-0.16691790930506256\n",
            "0.44190624444712556\n",
            "0.16178726762028628\n",
            "-0.05899727983877412\n"
          ]
        }
      ],
      "source": [
        "import random\n",
        "for i in range(1,10):\n",
        "    print(random.uniform(-1,1))"
      ]
    },
    {
      "cell_type": "markdown",
      "metadata": {
        "id": "ffmKx6O5tX8R"
      },
      "source": [
        "A couple of fine points: `uniform(-1,1)` generates random numbers with a uniform distribution in the semi-open range `[-1.0,1.0)`;  the `range` specification in the for loop requires i to be greater than or equal to 1, but less than 10. Only nine random numbers are printed."
      ]
    },
    {
      "cell_type": "markdown",
      "metadata": {
        "id": "94fZeQmHtX8S"
      },
      "source": [
        "### a. Darts at a board"
      ]
    },
    {
      "cell_type": "markdown",
      "metadata": {
        "id": "rAp_IWK_tX8S"
      },
      "source": [
        "🦉Draw a a $1 \\times 1$ square with a circle of radius 0.5 within it. Then pick 25 random points $(x,y)$ in the square (do this by picking two random numbers each between -1 and 1). Plot them within the square (`plt.plot(x,y,'.',color='red'`).   Recall that the area of a circle is $\\pi r^2$, and that if you inscribe a circle of radius 0.5 inside a square of side length 1, the ratio of the areas of the circle and square will be $\\pi$/4.\n",
        "$$\\frac{\\pi r^2}{4 r^2}= \\frac{\\pi}{4}$$\n",
        "\n",
        "Because the dart is likely to hit any place on the square, the fraction of dots within the circle is the ratio of the area between the circle and the square.\n",
        "\n",
        "\n",
        "I removed all the axis to make them look prettier by doing:\n",
        "```python\n",
        "plt.xlim(-1,1)\n",
        "plt.ylim(-1,1)\n",
        "plt.gca().get_xaxis().set_visible(False)\n",
        "plt.gca().get_yaxis().set_visible(False)\n",
        "plt.show()\n",
        "```\n"
      ]
    },
    {
      "cell_type": "markdown",
      "metadata": {
        "id": "8QHgQIqEtX8S"
      },
      "source": [
        "*Code below for circle and random points in a square.*\n",
        "\n",
        "<img src=\"https://courses.physics.illinois.edu/phys246/fa2022/img/AnsStart.svg\" width=200 align=left></img><br>"
      ]
    },
    {
      "cell_type": "code",
      "execution_count": null,
      "metadata": {
        "id": "M3Jnex9JtX8S",
        "outputId": "448a4733-b9be-45cc-8dc4-e221324b237e"
      },
      "outputs": [
        {
          "data": {
            "image/png": "[encoded data removed]",
            "text/plain": [
              "<Figure size 432x288 with 1 Axes>"
            ]
          },
          "metadata": {
            "needs_background": "light"
          },
          "output_type": "display_data"
        },
        {
          "name": "stdout",
          "output_type": "stream",
          "text": [
            "References: https://matplotlib.org/stable/api/_as_gen/matplotlib.axes.Axes.add_patch.html, https://www.tutorialspoint.com/how-do-i-put-a-circle-with-annotation-in-matplotlib\n"
          ]
        }
      ],
      "source": [
        "# ANSWER HERE\n",
        "plt.xlim(-0.5,0.5)\n",
        "plt.ylim(-0.5,0.5)  \n",
        "circle = plt.Circle((0.0, 0.0), 0.5)\n",
        "plt.gca().add_patch(circle)\n",
        "\n",
        "for i in range(25):\n",
        "    x = np.random.random() *1 - 0.5\n",
        "    y = np.random.random() *1 - 0.5\n",
        "    plt.plot(x,y,'.',color='red')\n",
        "\n",
        " \n",
        "plt.gca().get_xaxis().set_visible(False)\n",
        "plt.gca().get_yaxis().set_visible(False)\n",
        "plt.axis ('scaled')\n",
        "plt.show()\n",
        "\n",
        "print(\"References: https://matplotlib.org/stable/api/_as_gen/matplotlib.axes.Axes.add_patch.html, https://www.tutorialspoint.com/how-do-i-put-a-circle-with-annotation-in-matplotlib\")"
      ]
    },
    {
      "cell_type": "markdown",
      "metadata": {
        "id": "mHEp7LzrtX8S"
      },
      "source": [
        "<img src=\"https://courses.physics.illinois.edu/phys246/fa2022/img/AnsEnd.svg\" width=200 align=left></img><br>"
      ]
    },
    {
      "cell_type": "markdown",
      "metadata": {
        "id": "IAk4mLuhtX8S"
      },
      "source": [
        "### b. $\\pi$ from Darts"
      ]
    },
    {
      "cell_type": "markdown",
      "metadata": {
        "id": "K30GmatotX8S"
      },
      "source": [
        "🦉Within your loops, measure the fraction of dots that actually end up in your circle.  Measure $\\pi$ using this number both with 25 dots as well as 2500 dots (for this latter number you might want to turn off the plotting or it will be really slow). "
      ]
    },
    {
      "cell_type": "markdown",
      "metadata": {
        "id": "qZHTAqDltX8S"
      },
      "source": [
        "*Code for fraction of points which are in the circle.  This should be $\\pi/4$ so multiply by 4 to get $\\pi$*\n",
        "\n",
        "<img src=\"https://courses.physics.illinois.edu/phys246/fa2022/img/AnsStart.svg\" width=200 align=left></img><br>"
      ]
    },
    {
      "cell_type": "code",
      "execution_count": null,
      "metadata": {
        "id": "rS_2MhTitX8T",
        "outputId": "dbc815c0-f4c1-4b23-c65b-8c1cfc277ace"
      },
      "outputs": [
        {
          "name": "stdout",
          "output_type": "stream",
          "text": [
            "Approximate value of pi for 25 dots: 3.52\n",
            "Approximate value of pi for 2500 dots: 3.1504\n",
            "References: None\n"
          ]
        }
      ],
      "source": [
        "# ANSWER HERE\n",
        "#for 25 dots\n",
        "circle1 = 0\n",
        "n1 = 25\n",
        "for i in range(n1):\n",
        "    x = np.random.random() *1 - 0.5\n",
        "    y = np.random.random() *1 - 0.5\n",
        "    if x**2 + y**2 <= 0.5**2:\n",
        "        circle1 += 1\n",
        "\n",
        "pi_approx = (circle1/n1) * 4       \n",
        "print(f\"Approximate value of pi for {n1} dots: {pi_approx}\")\n",
        "\n",
        "# for 2500 dots\n",
        "circle2 = 0\n",
        "n2 = 2500\n",
        "for i in range(n2):\n",
        "    x = np.random.random() *1 - 0.5\n",
        "    y = np.random.random() *1 - 0.5\n",
        "    if x**2 + y**2 <= 0.5**2:\n",
        "        circle2 += 1\n",
        "\n",
        "pi_approx = (circle2/n2) * 4       \n",
        "print(f\"Approximate value of pi for {n2} dots: {pi_approx}\")\n",
        "print('References: None')"
      ]
    },
    {
      "cell_type": "markdown",
      "metadata": {
        "id": "9ds6D4YMtX8T"
      },
      "source": [
        "<img src=\"https://courses.physics.illinois.edu/phys246/fa2022/img/AnsEnd.svg\" width=200 align=left></img><br>"
      ]
    },
    {
      "cell_type": "markdown",
      "metadata": {
        "id": "2nuBESNYtX8T"
      },
      "source": [
        "### c. Repeated Experiments"
      ]
    },
    {
      "cell_type": "markdown",
      "metadata": {
        "id": "MqqbW1c2tX8T"
      },
      "source": [
        "🦉Now wrap your code in an additional outer loop which runs 1000 times. You now have an outer loops (1000 times) and inner loop (2500 times).   You are now estimating $\\pi$ 1000 times.  \n",
        "\n",
        "Store each of the estimates in an array (or list) and generate a histogram (bar graph) of the values in the array using `plt.hist`. If my estimates were stored in a list named `storedVals` I can generate a histogram by\n",
        "```python\n",
        "plt.hist(storedVals)\n",
        "#...add axis labels, etc here...\n",
        "plt.show()\n",
        "```\n",
        "\n",
        "Finally increase the number of iterations in your inner loop from 2,500 to 10,000. How does the RMS width of your histogram change?  \n",
        "(You should find that it is about half as big. It is very common for statistical precision to improve proportional to the square root of the number of samples in your average.)\n"
      ]
    },
    {
      "cell_type": "markdown",
      "metadata": {
        "id": "0Zz4yXXItX8T"
      },
      "source": [
        "*Run your function to get $\\pi$ many times and make a histogram of your answers below.*\n",
        "\n",
        "<img src=\"https://courses.physics.illinois.edu/phys246/fa2022/img/AnsStart.svg\" width=200 align=left></img><br>"
      ]
    },
    {
      "cell_type": "code",
      "execution_count": null,
      "metadata": {
        "collapsed": true,
        "jupyter": {
          "outputs_hidden": true
        },
        "id": "Uwkr1p-ytX8T",
        "outputId": "97488de8-3790-4b1f-d27a-337a1981b7ec"
      },
      "outputs": [
        {
          "name": "stdout",
          "output_type": "stream",
          "text": [
            "Approximate value of pi for 1000000 dots: 3.1552\n",
            "Approximate value of pi for 1000000 dots: 3.16\n",
            "Approximate value of pi for 1000000 dots: 3.1456\n",
            "Approximate value of pi for 1000000 dots: 3.1072\n",
            "Approximate value of pi for 1000000 dots: 3.1168\n",
            "Approximate value of pi for 1000000 dots: 3.1728\n",
            "Approximate value of pi for 1000000 dots: 3.1392\n",
            "Approximate value of pi for 1000000 dots: 3.12\n",
            "Approximate value of pi for 1000000 dots: 3.168\n",
            "Approximate value of pi for 1000000 dots: 3.1984\n",
            "Approximate value of pi for 1000000 dots: 3.1104\n",
            "Approximate value of pi for 1000000 dots: 3.0784\n",
            "Approximate value of pi for 1000000 dots: 3.1424\n",
            "Approximate value of pi for 1000000 dots: 3.1456\n",
            "Approximate value of pi for 1000000 dots: 3.1312\n",
            "Approximate value of pi for 1000000 dots: 3.1376\n",
            "Approximate value of pi for 1000000 dots: 3.1472\n",
            "Approximate value of pi for 1000000 dots: 3.1392\n",
            "Approximate value of pi for 1000000 dots: 3.1344\n",
            "Approximate value of pi for 1000000 dots: 3.1504\n",
            "Approximate value of pi for 1000000 dots: 3.1888\n",
            "Approximate value of pi for 1000000 dots: 3.2144\n",
            "Approximate value of pi for 1000000 dots: 3.1264\n",
            "Approximate value of pi for 1000000 dots: 3.144\n",
            "Approximate value of pi for 1000000 dots: 3.1344\n",
            "Approximate value of pi for 1000000 dots: 3.1216\n",
            "Approximate value of pi for 1000000 dots: 3.1408\n",
            "Approximate value of pi for 1000000 dots: 3.168\n",
            "Approximate value of pi for 1000000 dots: 3.168\n",
            "Approximate value of pi for 1000000 dots: 3.1856\n",
            "Approximate value of pi for 1000000 dots: 3.1552\n",
            "Approximate value of pi for 1000000 dots: 3.104\n",
            "Approximate value of pi for 1000000 dots: 3.1776\n",
            "Approximate value of pi for 1000000 dots: 3.1584\n",
            "Approximate value of pi for 1000000 dots: 3.1664\n",
            "Approximate value of pi for 1000000 dots: 3.1232\n",
            "Approximate value of pi for 1000000 dots: 3.1536\n",
            "Approximate value of pi for 1000000 dots: 3.1712\n",
            "Approximate value of pi for 1000000 dots: 3.1376\n",
            "Approximate value of pi for 1000000 dots: 3.152\n",
            "Approximate value of pi for 1000000 dots: 3.1232\n",
            "Approximate value of pi for 1000000 dots: 3.1392\n",
            "Approximate value of pi for 1000000 dots: 3.136\n",
            "Approximate value of pi for 1000000 dots: 3.1264\n",
            "Approximate value of pi for 1000000 dots: 3.1632\n",
            "Approximate value of pi for 1000000 dots: 3.0816\n",
            "Approximate value of pi for 1000000 dots: 3.1136\n",
            "Approximate value of pi for 1000000 dots: 3.176\n",
            "Approximate value of pi for 1000000 dots: 3.1472\n",
            "Approximate value of pi for 1000000 dots: 3.176\n",
            "Approximate value of pi for 1000000 dots: 3.1088\n",
            "Approximate value of pi for 1000000 dots: 3.1552\n",
            "Approximate value of pi for 1000000 dots: 3.1456\n",
            "Approximate value of pi for 1000000 dots: 3.1904\n",
            "Approximate value of pi for 1000000 dots: 3.1392\n",
            "Approximate value of pi for 1000000 dots: 3.1456\n",
            "Approximate value of pi for 1000000 dots: 3.1456\n",
            "Approximate value of pi for 1000000 dots: 3.1264\n",
            "Approximate value of pi for 1000000 dots: 3.1568\n",
            "Approximate value of pi for 1000000 dots: 3.1344\n",
            "Approximate value of pi for 1000000 dots: 3.1008\n",
            "Approximate value of pi for 1000000 dots: 3.1056\n",
            "Approximate value of pi for 1000000 dots: 3.1904\n",
            "Approximate value of pi for 1000000 dots: 3.1008\n",
            "Approximate value of pi for 1000000 dots: 3.184\n",
            "Approximate value of pi for 1000000 dots: 3.1088\n",
            "Approximate value of pi for 1000000 dots: 3.1056\n",
            "Approximate value of pi for 1000000 dots: 3.2176\n",
            "Approximate value of pi for 1000000 dots: 3.1008\n",
            "Approximate value of pi for 1000000 dots: 3.1008\n",
            "Approximate value of pi for 1000000 dots: 3.1488\n",
            "Approximate value of pi for 1000000 dots: 3.1264\n",
            "Approximate value of pi for 1000000 dots: 3.1104\n",
            "Approximate value of pi for 1000000 dots: 3.0944\n",
            "Approximate value of pi for 1000000 dots: 3.1008\n",
            "Approximate value of pi for 1000000 dots: 3.1088\n",
            "Approximate value of pi for 1000000 dots: 3.1216\n",
            "Approximate value of pi for 1000000 dots: 3.1664\n",
            "Approximate value of pi for 1000000 dots: 3.1184\n",
            "Approximate value of pi for 1000000 dots: 3.1056\n",
            "Approximate value of pi for 1000000 dots: 3.1024\n",
            "Approximate value of pi for 1000000 dots: 3.1232\n",
            "Approximate value of pi for 1000000 dots: 3.1728\n",
            "Approximate value of pi for 1000000 dots: 3.0912\n",
            "Approximate value of pi for 1000000 dots: 3.128\n",
            "Approximate value of pi for 1000000 dots: 3.1536\n",
            "Approximate value of pi for 1000000 dots: 3.1856\n",
            "Approximate value of pi for 1000000 dots: 3.1808\n",
            "Approximate value of pi for 1000000 dots: 3.1728\n",
            "Approximate value of pi for 1000000 dots: 3.1344\n",
            "Approximate value of pi for 1000000 dots: 3.1296\n",
            "Approximate value of pi for 1000000 dots: 3.144\n",
            "Approximate value of pi for 1000000 dots: 3.1392\n",
            "Approximate value of pi for 1000000 dots: 3.1488\n",
            "Approximate value of pi for 1000000 dots: 3.1472\n",
            "Approximate value of pi for 1000000 dots: 3.1552\n",
            "Approximate value of pi for 1000000 dots: 3.1248\n",
            "Approximate value of pi for 1000000 dots: 3.168\n",
            "Approximate value of pi for 1000000 dots: 3.12\n",
            "Approximate value of pi for 1000000 dots: 3.1504\n",
            "Approximate value of pi for 1000000 dots: 3.1744\n",
            "Approximate value of pi for 1000000 dots: 3.1616\n",
            "Approximate value of pi for 1000000 dots: 3.1232\n",
            "Approximate value of pi for 1000000 dots: 3.1728\n",
            "Approximate value of pi for 1000000 dots: 3.104\n",
            "Approximate value of pi for 1000000 dots: 3.1504\n",
            "Approximate value of pi for 1000000 dots: 3.1536\n",
            "Approximate value of pi for 1000000 dots: 3.1248\n",
            "Approximate value of pi for 1000000 dots: 3.16\n",
            "Approximate value of pi for 1000000 dots: 3.1584\n",
            "Approximate value of pi for 1000000 dots: 3.1712\n",
            "Approximate value of pi for 1000000 dots: 3.1408\n",
            "Approximate value of pi for 1000000 dots: 3.1616\n",
            "Approximate value of pi for 1000000 dots: 3.1536\n",
            "Approximate value of pi for 1000000 dots: 3.0816\n",
            "Approximate value of pi for 1000000 dots: 3.0912\n",
            "Approximate value of pi for 1000000 dots: 3.0864\n",
            "Approximate value of pi for 1000000 dots: 3.2304\n",
            "Approximate value of pi for 1000000 dots: 3.1696\n",
            "Approximate value of pi for 1000000 dots: 3.1648\n",
            "Approximate value of pi for 1000000 dots: 3.1248\n",
            "Approximate value of pi for 1000000 dots: 3.1376\n",
            "Approximate value of pi for 1000000 dots: 3.1456\n",
            "Approximate value of pi for 1000000 dots: 3.144\n",
            "Approximate value of pi for 1000000 dots: 3.1856\n",
            "Approximate value of pi for 1000000 dots: 3.1984\n",
            "Approximate value of pi for 1000000 dots: 3.1024\n",
            "Approximate value of pi for 1000000 dots: 3.0992\n",
            "Approximate value of pi for 1000000 dots: 3.0992\n",
            "Approximate value of pi for 1000000 dots: 3.1088\n",
            "Approximate value of pi for 1000000 dots: 3.1328\n",
            "Approximate value of pi for 1000000 dots: 3.1152\n",
            "Approximate value of pi for 1000000 dots: 3.176\n",
            "Approximate value of pi for 1000000 dots: 3.1664\n",
            "Approximate value of pi for 1000000 dots: 3.0992\n",
            "Approximate value of pi for 1000000 dots: 3.1552\n",
            "Approximate value of pi for 1000000 dots: 3.1552\n",
            "Approximate value of pi for 1000000 dots: 3.1424\n",
            "Approximate value of pi for 1000000 dots: 3.1072\n",
            "Approximate value of pi for 1000000 dots: 3.1168\n",
            "Approximate value of pi for 1000000 dots: 3.072\n",
            "Approximate value of pi for 1000000 dots: 3.128\n",
            "Approximate value of pi for 1000000 dots: 3.0832\n",
            "Approximate value of pi for 1000000 dots: 3.0816\n",
            "Approximate value of pi for 1000000 dots: 3.1616\n",
            "Approximate value of pi for 1000000 dots: 3.0848\n",
            "Approximate value of pi for 1000000 dots: 3.1568\n",
            "Approximate value of pi for 1000000 dots: 3.1296\n",
            "Approximate value of pi for 1000000 dots: 3.1584\n",
            "Approximate value of pi for 1000000 dots: 3.1632\n",
            "Approximate value of pi for 1000000 dots: 3.1744\n",
            "Approximate value of pi for 1000000 dots: 3.1008\n",
            "Approximate value of pi for 1000000 dots: 3.1664\n",
            "Approximate value of pi for 1000000 dots: 3.1936\n",
            "Approximate value of pi for 1000000 dots: 3.2096\n",
            "Approximate value of pi for 1000000 dots: 3.1584\n",
            "Approximate value of pi for 1000000 dots: 3.1568\n",
            "Approximate value of pi for 1000000 dots: 3.1632\n",
            "Approximate value of pi for 1000000 dots: 3.1664\n",
            "Approximate value of pi for 1000000 dots: 3.1008\n",
            "Approximate value of pi for 1000000 dots: 3.0992\n",
            "Approximate value of pi for 1000000 dots: 3.104\n",
            "Approximate value of pi for 1000000 dots: 3.1568\n",
            "Approximate value of pi for 1000000 dots: 3.1856\n",
            "Approximate value of pi for 1000000 dots: 3.128\n",
            "Approximate value of pi for 1000000 dots: 3.1504\n",
            "Approximate value of pi for 1000000 dots: 3.1488\n",
            "Approximate value of pi for 1000000 dots: 3.1664\n",
            "Approximate value of pi for 1000000 dots: 3.1664\n",
            "Approximate value of pi for 1000000 dots: 3.1536\n",
            "Approximate value of pi for 1000000 dots: 3.1328\n",
            "Approximate value of pi for 1000000 dots: 3.1216\n",
            "Approximate value of pi for 1000000 dots: 3.1024\n",
            "Approximate value of pi for 1000000 dots: 3.1184\n",
            "Approximate value of pi for 1000000 dots: 3.096\n",
            "Approximate value of pi for 1000000 dots: 3.1616\n",
            "Approximate value of pi for 1000000 dots: 3.112\n",
            "Approximate value of pi for 1000000 dots: 3.1472\n",
            "Approximate value of pi for 1000000 dots: 3.0944\n",
            "Approximate value of pi for 1000000 dots: 3.1328\n",
            "Approximate value of pi for 1000000 dots: 3.1568\n",
            "Approximate value of pi for 1000000 dots: 3.1376\n",
            "Approximate value of pi for 1000000 dots: 3.152\n",
            "Approximate value of pi for 1000000 dots: 3.1312\n",
            "Approximate value of pi for 1000000 dots: 3.088\n",
            "Approximate value of pi for 1000000 dots: 3.1488\n",
            "Approximate value of pi for 1000000 dots: 3.176\n",
            "Approximate value of pi for 1000000 dots: 3.1552\n",
            "Approximate value of pi for 1000000 dots: 3.112\n",
            "Approximate value of pi for 1000000 dots: 3.1824\n",
            "Approximate value of pi for 1000000 dots: 3.1088\n",
            "Approximate value of pi for 1000000 dots: 3.1488\n",
            "Approximate value of pi for 1000000 dots: 3.144\n",
            "Approximate value of pi for 1000000 dots: 3.1648\n",
            "Approximate value of pi for 1000000 dots: 3.1456\n",
            "Approximate value of pi for 1000000 dots: 3.1792\n",
            "Approximate value of pi for 1000000 dots: 3.1008\n",
            "Approximate value of pi for 1000000 dots: 3.12\n",
            "Approximate value of pi for 1000000 dots: 3.0864\n",
            "Approximate value of pi for 1000000 dots: 3.16\n",
            "Approximate value of pi for 1000000 dots: 3.1296\n",
            "Approximate value of pi for 1000000 dots: 3.1376\n",
            "Approximate value of pi for 1000000 dots: 3.1408\n",
            "Approximate value of pi for 1000000 dots: 3.1456\n",
            "Approximate value of pi for 1000000 dots: 3.112\n",
            "Approximate value of pi for 1000000 dots: 3.2016\n",
            "Approximate value of pi for 1000000 dots: 3.1232\n",
            "Approximate value of pi for 1000000 dots: 3.1472\n",
            "Approximate value of pi for 1000000 dots: 3.1456\n",
            "Approximate value of pi for 1000000 dots: 3.1776\n",
            "Approximate value of pi for 1000000 dots: 3.1328\n",
            "Approximate value of pi for 1000000 dots: 3.12\n",
            "Approximate value of pi for 1000000 dots: 3.152\n",
            "Approximate value of pi for 1000000 dots: 3.1472\n",
            "Approximate value of pi for 1000000 dots: 3.152\n",
            "Approximate value of pi for 1000000 dots: 3.1184\n",
            "Approximate value of pi for 1000000 dots: 3.1792\n",
            "Approximate value of pi for 1000000 dots: 3.1344\n",
            "Approximate value of pi for 1000000 dots: 3.1152\n",
            "Approximate value of pi for 1000000 dots: 3.0608\n",
            "Approximate value of pi for 1000000 dots: 3.1472\n",
            "Approximate value of pi for 1000000 dots: 3.136\n",
            "Approximate value of pi for 1000000 dots: 3.1248\n",
            "Approximate value of pi for 1000000 dots: 3.1216\n",
            "Approximate value of pi for 1000000 dots: 3.2288\n",
            "Approximate value of pi for 1000000 dots: 3.1296\n",
            "Approximate value of pi for 1000000 dots: 3.1136\n",
            "Approximate value of pi for 1000000 dots: 3.1744\n",
            "Approximate value of pi for 1000000 dots: 3.1488\n",
            "Approximate value of pi for 1000000 dots: 3.1712\n",
            "Approximate value of pi for 1000000 dots: 3.1584\n",
            "Approximate value of pi for 1000000 dots: 3.136\n",
            "Approximate value of pi for 1000000 dots: 3.144\n",
            "Approximate value of pi for 1000000 dots: 3.1296\n",
            "Approximate value of pi for 1000000 dots: 3.1232\n",
            "Approximate value of pi for 1000000 dots: 3.1488\n",
            "Approximate value of pi for 1000000 dots: 3.1312\n",
            "Approximate value of pi for 1000000 dots: 3.1216\n",
            "Approximate value of pi for 1000000 dots: 3.1648\n",
            "Approximate value of pi for 1000000 dots: 3.1088\n",
            "Approximate value of pi for 1000000 dots: 3.1744\n",
            "Approximate value of pi for 1000000 dots: 3.2144\n",
            "Approximate value of pi for 1000000 dots: 3.1376\n",
            "Approximate value of pi for 1000000 dots: 3.1552\n",
            "Approximate value of pi for 1000000 dots: 3.1792\n",
            "Approximate value of pi for 1000000 dots: 3.1472\n",
            "Approximate value of pi for 1000000 dots: 3.12\n",
            "Approximate value of pi for 1000000 dots: 3.1264\n",
            "Approximate value of pi for 1000000 dots: 3.1616\n",
            "Approximate value of pi for 1000000 dots: 3.176\n",
            "Approximate value of pi for 1000000 dots: 3.1888\n",
            "Approximate value of pi for 1000000 dots: 3.1008\n",
            "Approximate value of pi for 1000000 dots: 3.0928\n",
            "Approximate value of pi for 1000000 dots: 3.1104\n",
            "Approximate value of pi for 1000000 dots: 3.1024\n",
            "Approximate value of pi for 1000000 dots: 3.1392\n",
            "Approximate value of pi for 1000000 dots: 3.1696\n",
            "Approximate value of pi for 1000000 dots: 3.1296\n",
            "Approximate value of pi for 1000000 dots: 3.1664\n",
            "Approximate value of pi for 1000000 dots: 3.096\n",
            "Approximate value of pi for 1000000 dots: 3.2032\n",
            "Approximate value of pi for 1000000 dots: 3.1472\n",
            "Approximate value of pi for 1000000 dots: 3.1504\n",
            "Approximate value of pi for 1000000 dots: 3.1664\n",
            "Approximate value of pi for 1000000 dots: 3.1744\n",
            "Approximate value of pi for 1000000 dots: 3.1408\n",
            "Approximate value of pi for 1000000 dots: 3.1744\n",
            "Approximate value of pi for 1000000 dots: 3.1648\n",
            "Approximate value of pi for 1000000 dots: 3.1312\n",
            "Approximate value of pi for 1000000 dots: 3.1888\n",
            "Approximate value of pi for 1000000 dots: 3.1472\n",
            "Approximate value of pi for 1000000 dots: 3.096\n",
            "Approximate value of pi for 1000000 dots: 3.1296\n",
            "Approximate value of pi for 1000000 dots: 3.0816\n",
            "Approximate value of pi for 1000000 dots: 3.1744\n",
            "Approximate value of pi for 1000000 dots: 3.1968\n",
            "Approximate value of pi for 1000000 dots: 3.1488\n",
            "Approximate value of pi for 1000000 dots: 3.192\n",
            "Approximate value of pi for 1000000 dots: 3.1616\n",
            "Approximate value of pi for 1000000 dots: 3.192\n",
            "Approximate value of pi for 1000000 dots: 3.1808\n",
            "Approximate value of pi for 1000000 dots: 3.088\n",
            "Approximate value of pi for 1000000 dots: 3.1408\n",
            "Approximate value of pi for 1000000 dots: 3.2272\n",
            "Approximate value of pi for 1000000 dots: 3.1728\n",
            "Approximate value of pi for 1000000 dots: 3.1088\n",
            "Approximate value of pi for 1000000 dots: 3.056\n",
            "Approximate value of pi for 1000000 dots: 3.1168\n",
            "Approximate value of pi for 1000000 dots: 3.2032\n",
            "Approximate value of pi for 1000000 dots: 3.1728\n",
            "Approximate value of pi for 1000000 dots: 3.0848\n",
            "Approximate value of pi for 1000000 dots: 3.16\n",
            "Approximate value of pi for 1000000 dots: 3.104\n",
            "Approximate value of pi for 1000000 dots: 3.136\n",
            "Approximate value of pi for 1000000 dots: 3.0944\n",
            "Approximate value of pi for 1000000 dots: 3.12\n",
            "Approximate value of pi for 1000000 dots: 3.1648\n",
            "Approximate value of pi for 1000000 dots: 3.1408\n",
            "Approximate value of pi for 1000000 dots: 3.1376\n",
            "Approximate value of pi for 1000000 dots: 3.1696\n",
            "Approximate value of pi for 1000000 dots: 3.1904\n",
            "Approximate value of pi for 1000000 dots: 3.1392\n",
            "Approximate value of pi for 1000000 dots: 3.1376\n",
            "Approximate value of pi for 1000000 dots: 3.1344\n",
            "Approximate value of pi for 1000000 dots: 3.176\n",
            "Approximate value of pi for 1000000 dots: 3.128\n",
            "Approximate value of pi for 1000000 dots: 3.1456\n",
            "Approximate value of pi for 1000000 dots: 3.1872\n",
            "Approximate value of pi for 1000000 dots: 3.1008\n",
            "Approximate value of pi for 1000000 dots: 3.0992\n",
            "Approximate value of pi for 1000000 dots: 3.104\n",
            "Approximate value of pi for 1000000 dots: 3.1616\n",
            "Approximate value of pi for 1000000 dots: 3.1728\n",
            "Approximate value of pi for 1000000 dots: 3.1136\n",
            "Approximate value of pi for 1000000 dots: 3.16\n",
            "Approximate value of pi for 1000000 dots: 3.1552\n",
            "Approximate value of pi for 1000000 dots: 3.1344\n",
            "Approximate value of pi for 1000000 dots: 3.1264\n",
            "Approximate value of pi for 1000000 dots: 3.1488\n",
            "Approximate value of pi for 1000000 dots: 3.208\n",
            "Approximate value of pi for 1000000 dots: 3.1088\n",
            "Approximate value of pi for 1000000 dots: 3.1456\n",
            "Approximate value of pi for 1000000 dots: 3.1088\n",
            "Approximate value of pi for 1000000 dots: 3.1328\n",
            "Approximate value of pi for 1000000 dots: 3.1264\n",
            "Approximate value of pi for 1000000 dots: 3.0832\n",
            "Approximate value of pi for 1000000 dots: 3.1392\n",
            "Approximate value of pi for 1000000 dots: 3.104\n",
            "Approximate value of pi for 1000000 dots: 3.1792\n",
            "Approximate value of pi for 1000000 dots: 3.1872\n",
            "Approximate value of pi for 1000000 dots: 3.1408\n",
            "Approximate value of pi for 1000000 dots: 3.1408\n",
            "Approximate value of pi for 1000000 dots: 3.136\n",
            "Approximate value of pi for 1000000 dots: 3.1216\n",
            "Approximate value of pi for 1000000 dots: 3.1584\n",
            "Approximate value of pi for 1000000 dots: 3.1344\n",
            "Approximate value of pi for 1000000 dots: 3.1408\n",
            "Approximate value of pi for 1000000 dots: 3.1088\n",
            "Approximate value of pi for 1000000 dots: 3.1728\n",
            "Approximate value of pi for 1000000 dots: 3.12\n",
            "Approximate value of pi for 1000000 dots: 3.152\n",
            "Approximate value of pi for 1000000 dots: 3.1568\n",
            "Approximate value of pi for 1000000 dots: 3.1584\n",
            "Approximate value of pi for 1000000 dots: 3.1264\n",
            "Approximate value of pi for 1000000 dots: 3.1472\n",
            "Approximate value of pi for 1000000 dots: 3.1536\n",
            "Approximate value of pi for 1000000 dots: 3.1696\n",
            "Approximate value of pi for 1000000 dots: 3.2016\n",
            "Approximate value of pi for 1000000 dots: 3.1488\n",
            "Approximate value of pi for 1000000 dots: 3.1328\n",
            "Approximate value of pi for 1000000 dots: 3.0928\n",
            "Approximate value of pi for 1000000 dots: 3.0656\n",
            "Approximate value of pi for 1000000 dots: 3.1168\n",
            "Approximate value of pi for 1000000 dots: 3.1024\n",
            "Approximate value of pi for 1000000 dots: 3.1216\n",
            "Approximate value of pi for 1000000 dots: 3.192\n",
            "Approximate value of pi for 1000000 dots: 3.16\n",
            "Approximate value of pi for 1000000 dots: 3.096\n",
            "Approximate value of pi for 1000000 dots: 3.1456\n",
            "Approximate value of pi for 1000000 dots: 3.1744\n",
            "Approximate value of pi for 1000000 dots: 3.0368\n",
            "Approximate value of pi for 1000000 dots: 3.1344\n",
            "Approximate value of pi for 1000000 dots: 3.1056\n",
            "Approximate value of pi for 1000000 dots: 3.216\n",
            "Approximate value of pi for 1000000 dots: 3.1568\n",
            "Approximate value of pi for 1000000 dots: 3.144\n",
            "Approximate value of pi for 1000000 dots: 3.152\n",
            "Approximate value of pi for 1000000 dots: 3.0976\n",
            "Approximate value of pi for 1000000 dots: 3.144\n",
            "Approximate value of pi for 1000000 dots: 3.0976\n",
            "Approximate value of pi for 1000000 dots: 3.1936\n",
            "Approximate value of pi for 1000000 dots: 3.1152\n",
            "Approximate value of pi for 1000000 dots: 3.0752\n",
            "Approximate value of pi for 1000000 dots: 3.12\n",
            "Approximate value of pi for 1000000 dots: 3.0784\n",
            "Approximate value of pi for 1000000 dots: 3.2\n",
            "Approximate value of pi for 1000000 dots: 3.104\n",
            "Approximate value of pi for 1000000 dots: 3.1376\n",
            "Approximate value of pi for 1000000 dots: 3.1728\n",
            "Approximate value of pi for 1000000 dots: 3.112\n",
            "Approximate value of pi for 1000000 dots: 3.1024\n",
            "Approximate value of pi for 1000000 dots: 3.1568\n",
            "Approximate value of pi for 1000000 dots: 3.1936\n",
            "Approximate value of pi for 1000000 dots: 3.1376\n",
            "Approximate value of pi for 1000000 dots: 3.0496\n",
            "Approximate value of pi for 1000000 dots: 3.0912\n",
            "Approximate value of pi for 1000000 dots: 3.112\n",
            "Approximate value of pi for 1000000 dots: 3.1808\n",
            "Approximate value of pi for 1000000 dots: 3.1376\n",
            "Approximate value of pi for 1000000 dots: 3.1712\n",
            "Approximate value of pi for 1000000 dots: 3.104\n",
            "Approximate value of pi for 1000000 dots: 3.1376\n",
            "Approximate value of pi for 1000000 dots: 3.1696\n",
            "Approximate value of pi for 1000000 dots: 3.2016\n",
            "Approximate value of pi for 1000000 dots: 3.1712\n",
            "Approximate value of pi for 1000000 dots: 3.1472\n",
            "Approximate value of pi for 1000000 dots: 3.0704\n",
            "Approximate value of pi for 1000000 dots: 3.152\n",
            "Approximate value of pi for 1000000 dots: 3.1648\n",
            "Approximate value of pi for 1000000 dots: 3.128\n",
            "Approximate value of pi for 1000000 dots: 3.128\n",
            "Approximate value of pi for 1000000 dots: 3.1392\n",
            "Approximate value of pi for 1000000 dots: 3.16\n",
            "Approximate value of pi for 1000000 dots: 3.1376\n",
            "Approximate value of pi for 1000000 dots: 3.088\n",
            "Approximate value of pi for 1000000 dots: 3.1408\n",
            "Approximate value of pi for 1000000 dots: 3.1536\n",
            "Approximate value of pi for 1000000 dots: 3.192\n",
            "Approximate value of pi for 1000000 dots: 3.1392\n",
            "Approximate value of pi for 1000000 dots: 3.144\n",
            "Approximate value of pi for 1000000 dots: 3.1104\n",
            "Approximate value of pi for 1000000 dots: 3.152\n",
            "Approximate value of pi for 1000000 dots: 3.1536\n",
            "Approximate value of pi for 1000000 dots: 3.1504\n",
            "Approximate value of pi for 1000000 dots: 3.1488\n",
            "Approximate value of pi for 1000000 dots: 3.1632\n",
            "Approximate value of pi for 1000000 dots: 3.0976\n",
            "Approximate value of pi for 1000000 dots: 3.12\n",
            "Approximate value of pi for 1000000 dots: 3.1344\n",
            "Approximate value of pi for 1000000 dots: 3.1472\n",
            "Approximate value of pi for 1000000 dots: 3.1344\n",
            "Approximate value of pi for 1000000 dots: 3.1808\n",
            "Approximate value of pi for 1000000 dots: 3.1744\n",
            "Approximate value of pi for 1000000 dots: 3.112\n",
            "Approximate value of pi for 1000000 dots: 3.1504\n",
            "Approximate value of pi for 1000000 dots: 3.0848\n",
            "Approximate value of pi for 1000000 dots: 3.144\n",
            "Approximate value of pi for 1000000 dots: 3.1408\n",
            "Approximate value of pi for 1000000 dots: 3.168\n",
            "Approximate value of pi for 1000000 dots: 3.1136\n",
            "Approximate value of pi for 1000000 dots: 3.08\n",
            "Approximate value of pi for 1000000 dots: 3.1184\n",
            "Approximate value of pi for 1000000 dots: 3.0976\n",
            "Approximate value of pi for 1000000 dots: 3.1616\n",
            "Approximate value of pi for 1000000 dots: 3.1456\n",
            "Approximate value of pi for 1000000 dots: 3.1408\n",
            "Approximate value of pi for 1000000 dots: 3.1088\n",
            "Approximate value of pi for 1000000 dots: 3.1744\n",
            "Approximate value of pi for 1000000 dots: 3.136\n",
            "Approximate value of pi for 1000000 dots: 3.1488\n",
            "Approximate value of pi for 1000000 dots: 3.1792\n",
            "Approximate value of pi for 1000000 dots: 3.1808\n",
            "Approximate value of pi for 1000000 dots: 3.1872\n",
            "Approximate value of pi for 1000000 dots: 3.1648\n",
            "Approximate value of pi for 1000000 dots: 3.1888\n",
            "Approximate value of pi for 1000000 dots: 3.1152\n",
            "Approximate value of pi for 1000000 dots: 3.1664\n",
            "Approximate value of pi for 1000000 dots: 3.1328\n",
            "Approximate value of pi for 1000000 dots: 3.1648\n",
            "Approximate value of pi for 1000000 dots: 3.1824\n",
            "Approximate value of pi for 1000000 dots: 3.152\n",
            "Approximate value of pi for 1000000 dots: 3.1152\n",
            "Approximate value of pi for 1000000 dots: 3.1456\n",
            "Approximate value of pi for 1000000 dots: 3.112\n",
            "Approximate value of pi for 1000000 dots: 3.128\n",
            "Approximate value of pi for 1000000 dots: 3.1712\n",
            "Approximate value of pi for 1000000 dots: 3.1616\n",
            "Approximate value of pi for 1000000 dots: 3.1248\n",
            "Approximate value of pi for 1000000 dots: 3.1472\n",
            "Approximate value of pi for 1000000 dots: 3.0832\n",
            "Approximate value of pi for 1000000 dots: 3.1584\n",
            "Approximate value of pi for 1000000 dots: 3.128\n",
            "Approximate value of pi for 1000000 dots: 3.1056\n",
            "Approximate value of pi for 1000000 dots: 3.1136\n",
            "Approximate value of pi for 1000000 dots: 3.04\n",
            "Approximate value of pi for 1000000 dots: 3.104\n",
            "Approximate value of pi for 1000000 dots: 3.1392\n",
            "Approximate value of pi for 1000000 dots: 3.1008\n",
            "Approximate value of pi for 1000000 dots: 3.12\n",
            "Approximate value of pi for 1000000 dots: 3.1328\n",
            "Approximate value of pi for 1000000 dots: 3.1168\n",
            "Approximate value of pi for 1000000 dots: 3.112\n",
            "Approximate value of pi for 1000000 dots: 3.1472\n",
            "Approximate value of pi for 1000000 dots: 3.1456\n",
            "Approximate value of pi for 1000000 dots: 3.112\n",
            "Approximate value of pi for 1000000 dots: 3.1024\n",
            "Approximate value of pi for 1000000 dots: 3.1312\n",
            "Approximate value of pi for 1000000 dots: 3.1392\n",
            "Approximate value of pi for 1000000 dots: 3.1216\n",
            "Approximate value of pi for 1000000 dots: 3.1488\n",
            "Approximate value of pi for 1000000 dots: 3.1248\n",
            "Approximate value of pi for 1000000 dots: 3.1024\n",
            "Approximate value of pi for 1000000 dots: 3.208\n",
            "Approximate value of pi for 1000000 dots: 3.1584\n",
            "Approximate value of pi for 1000000 dots: 3.0896\n",
            "Approximate value of pi for 1000000 dots: 3.096\n",
            "Approximate value of pi for 1000000 dots: 3.1312\n",
            "Approximate value of pi for 1000000 dots: 3.1152\n",
            "Approximate value of pi for 1000000 dots: 3.16\n",
            "Approximate value of pi for 1000000 dots: 3.16\n",
            "Approximate value of pi for 1000000 dots: 3.2128\n",
            "Approximate value of pi for 1000000 dots: 3.1712\n",
            "Approximate value of pi for 1000000 dots: 3.1296\n",
            "Approximate value of pi for 1000000 dots: 3.1808\n",
            "Approximate value of pi for 1000000 dots: 3.144\n",
            "Approximate value of pi for 1000000 dots: 3.1312\n",
            "Approximate value of pi for 1000000 dots: 3.192\n",
            "Approximate value of pi for 1000000 dots: 3.1376\n",
            "Approximate value of pi for 1000000 dots: 3.1536\n",
            "Approximate value of pi for 1000000 dots: 3.136\n",
            "Approximate value of pi for 1000000 dots: 3.1296\n",
            "Approximate value of pi for 1000000 dots: 3.1696\n",
            "Approximate value of pi for 1000000 dots: 3.1776\n",
            "Approximate value of pi for 1000000 dots: 3.1248\n",
            "Approximate value of pi for 1000000 dots: 3.1376\n",
            "Approximate value of pi for 1000000 dots: 3.1632\n",
            "Approximate value of pi for 1000000 dots: 3.0912\n",
            "Approximate value of pi for 1000000 dots: 3.1216\n",
            "Approximate value of pi for 1000000 dots: 3.1696\n",
            "Approximate value of pi for 1000000 dots: 3.1024\n",
            "Approximate value of pi for 1000000 dots: 3.1808\n",
            "Approximate value of pi for 1000000 dots: 3.1088\n",
            "Approximate value of pi for 1000000 dots: 3.0912\n",
            "Approximate value of pi for 1000000 dots: 3.112\n",
            "Approximate value of pi for 1000000 dots: 3.1472\n",
            "Approximate value of pi for 1000000 dots: 3.2032\n",
            "Approximate value of pi for 1000000 dots: 3.168\n",
            "Approximate value of pi for 1000000 dots: 3.1696\n",
            "Approximate value of pi for 1000000 dots: 3.0896\n",
            "Approximate value of pi for 1000000 dots: 3.1008\n",
            "Approximate value of pi for 1000000 dots: 3.1328\n",
            "Approximate value of pi for 1000000 dots: 3.1184\n",
            "Approximate value of pi for 1000000 dots: 3.1008\n",
            "Approximate value of pi for 1000000 dots: 3.224\n",
            "Approximate value of pi for 1000000 dots: 3.1712\n",
            "Approximate value of pi for 1000000 dots: 3.1072\n",
            "Approximate value of pi for 1000000 dots: 3.1856\n",
            "Approximate value of pi for 1000000 dots: 3.1728\n",
            "Approximate value of pi for 1000000 dots: 3.1472\n",
            "Approximate value of pi for 1000000 dots: 3.208\n",
            "Approximate value of pi for 1000000 dots: 3.0848\n",
            "Approximate value of pi for 1000000 dots: 3.1408\n",
            "Approximate value of pi for 1000000 dots: 3.1264\n",
            "Approximate value of pi for 1000000 dots: 3.0976\n",
            "Approximate value of pi for 1000000 dots: 3.1072\n",
            "Approximate value of pi for 1000000 dots: 3.1616\n",
            "Approximate value of pi for 1000000 dots: 3.176\n",
            "Approximate value of pi for 1000000 dots: 3.1232\n",
            "Approximate value of pi for 1000000 dots: 3.0768\n",
            "Approximate value of pi for 1000000 dots: 3.128\n",
            "Approximate value of pi for 1000000 dots: 3.0832\n",
            "Approximate value of pi for 1000000 dots: 3.1008\n",
            "Approximate value of pi for 1000000 dots: 3.184\n",
            "Approximate value of pi for 1000000 dots: 3.1136\n",
            "Approximate value of pi for 1000000 dots: 3.168\n",
            "Approximate value of pi for 1000000 dots: 3.1776\n",
            "Approximate value of pi for 1000000 dots: 3.208\n",
            "Approximate value of pi for 1000000 dots: 3.1456\n",
            "Approximate value of pi for 1000000 dots: 3.1824\n",
            "Approximate value of pi for 1000000 dots: 3.128\n",
            "Approximate value of pi for 1000000 dots: 3.1248\n",
            "Approximate value of pi for 1000000 dots: 3.1456\n",
            "Approximate value of pi for 1000000 dots: 3.112\n",
            "Approximate value of pi for 1000000 dots: 3.1312\n",
            "Approximate value of pi for 1000000 dots: 3.1376\n",
            "Approximate value of pi for 1000000 dots: 3.1152\n",
            "Approximate value of pi for 1000000 dots: 3.1392\n",
            "Approximate value of pi for 1000000 dots: 3.1392\n",
            "Approximate value of pi for 1000000 dots: 3.1248\n",
            "Approximate value of pi for 1000000 dots: 3.168\n",
            "Approximate value of pi for 1000000 dots: 3.184\n",
            "Approximate value of pi for 1000000 dots: 3.104\n",
            "Approximate value of pi for 1000000 dots: 3.1472\n",
            "Approximate value of pi for 1000000 dots: 3.1328\n",
            "Approximate value of pi for 1000000 dots: 3.152\n",
            "Approximate value of pi for 1000000 dots: 3.1744\n",
            "Approximate value of pi for 1000000 dots: 3.1376\n",
            "Approximate value of pi for 1000000 dots: 3.1648\n",
            "Approximate value of pi for 1000000 dots: 3.2016\n",
            "Approximate value of pi for 1000000 dots: 3.0816\n",
            "Approximate value of pi for 1000000 dots: 3.104\n",
            "Approximate value of pi for 1000000 dots: 3.1568\n",
            "Approximate value of pi for 1000000 dots: 3.1168\n",
            "Approximate value of pi for 1000000 dots: 3.1824\n",
            "Approximate value of pi for 1000000 dots: 3.1312\n",
            "Approximate value of pi for 1000000 dots: 3.1024\n",
            "Approximate value of pi for 1000000 dots: 3.1808\n",
            "Approximate value of pi for 1000000 dots: 3.1328\n",
            "Approximate value of pi for 1000000 dots: 3.1056\n",
            "Approximate value of pi for 1000000 dots: 3.1152\n",
            "Approximate value of pi for 1000000 dots: 3.1488\n",
            "Approximate value of pi for 1000000 dots: 3.1632\n",
            "Approximate value of pi for 1000000 dots: 3.1456\n",
            "Approximate value of pi for 1000000 dots: 3.0864\n",
            "Approximate value of pi for 1000000 dots: 3.1568\n",
            "Approximate value of pi for 1000000 dots: 3.1088\n",
            "Approximate value of pi for 1000000 dots: 3.1616\n",
            "Approximate value of pi for 1000000 dots: 3.1248\n",
            "Approximate value of pi for 1000000 dots: 3.1536\n",
            "Approximate value of pi for 1000000 dots: 3.096\n",
            "Approximate value of pi for 1000000 dots: 3.1248\n",
            "Approximate value of pi for 1000000 dots: 3.1488\n",
            "Approximate value of pi for 1000000 dots: 3.1792\n",
            "Approximate value of pi for 1000000 dots: 3.1152\n",
            "Approximate value of pi for 1000000 dots: 3.1584\n",
            "Approximate value of pi for 1000000 dots: 3.1344\n",
            "Approximate value of pi for 1000000 dots: 3.1536\n",
            "Approximate value of pi for 1000000 dots: 3.152\n",
            "Approximate value of pi for 1000000 dots: 3.1296\n",
            "Approximate value of pi for 1000000 dots: 3.1104\n",
            "Approximate value of pi for 1000000 dots: 3.1552\n",
            "Approximate value of pi for 1000000 dots: 3.1664\n",
            "Approximate value of pi for 1000000 dots: 3.1072\n",
            "Approximate value of pi for 1000000 dots: 3.168\n",
            "Approximate value of pi for 1000000 dots: 3.1792\n",
            "Approximate value of pi for 1000000 dots: 3.176\n",
            "Approximate value of pi for 1000000 dots: 3.128\n",
            "Approximate value of pi for 1000000 dots: 3.1472\n",
            "Approximate value of pi for 1000000 dots: 3.1296\n",
            "Approximate value of pi for 1000000 dots: 3.1616\n",
            "Approximate value of pi for 1000000 dots: 3.1552\n",
            "Approximate value of pi for 1000000 dots: 3.1312\n",
            "Approximate value of pi for 1000000 dots: 3.1376\n",
            "Approximate value of pi for 1000000 dots: 3.1744\n",
            "Approximate value of pi for 1000000 dots: 3.1792\n",
            "Approximate value of pi for 1000000 dots: 3.1328\n",
            "Approximate value of pi for 1000000 dots: 3.1632\n",
            "Approximate value of pi for 1000000 dots: 3.2112\n",
            "Approximate value of pi for 1000000 dots: 3.1664\n",
            "Approximate value of pi for 1000000 dots: 3.128\n",
            "Approximate value of pi for 1000000 dots: 3.184\n",
            "Approximate value of pi for 1000000 dots: 3.1648\n",
            "Approximate value of pi for 1000000 dots: 3.1728\n",
            "Approximate value of pi for 1000000 dots: 3.1632\n",
            "Approximate value of pi for 1000000 dots: 3.1072\n",
            "Approximate value of pi for 1000000 dots: 3.1712\n",
            "Approximate value of pi for 1000000 dots: 3.1552\n",
            "Approximate value of pi for 1000000 dots: 3.1184\n",
            "Approximate value of pi for 1000000 dots: 3.168\n",
            "Approximate value of pi for 1000000 dots: 3.1584\n",
            "Approximate value of pi for 1000000 dots: 3.136\n",
            "Approximate value of pi for 1000000 dots: 3.1136\n",
            "Approximate value of pi for 1000000 dots: 3.1232\n",
            "Approximate value of pi for 1000000 dots: 3.192\n",
            "Approximate value of pi for 1000000 dots: 3.184\n",
            "Approximate value of pi for 1000000 dots: 3.1744\n",
            "Approximate value of pi for 1000000 dots: 3.1776\n",
            "Approximate value of pi for 1000000 dots: 3.1376\n",
            "Approximate value of pi for 1000000 dots: 3.1424\n",
            "Approximate value of pi for 1000000 dots: 3.1696\n",
            "Approximate value of pi for 1000000 dots: 3.152\n",
            "Approximate value of pi for 1000000 dots: 3.1296\n",
            "Approximate value of pi for 1000000 dots: 3.1392\n",
            "Approximate value of pi for 1000000 dots: 3.1296\n",
            "Approximate value of pi for 1000000 dots: 3.0848\n",
            "Approximate value of pi for 1000000 dots: 3.1472\n",
            "Approximate value of pi for 1000000 dots: 3.1376\n",
            "Approximate value of pi for 1000000 dots: 3.1424\n",
            "Approximate value of pi for 1000000 dots: 3.1616\n",
            "Approximate value of pi for 1000000 dots: 3.1584\n",
            "Approximate value of pi for 1000000 dots: 3.144\n",
            "Approximate value of pi for 1000000 dots: 3.1808\n",
            "Approximate value of pi for 1000000 dots: 3.1296\n",
            "Approximate value of pi for 1000000 dots: 3.1584\n",
            "Approximate value of pi for 1000000 dots: 3.192\n",
            "Approximate value of pi for 1000000 dots: 3.1184\n",
            "Approximate value of pi for 1000000 dots: 3.112\n",
            "Approximate value of pi for 1000000 dots: 3.1216\n",
            "Approximate value of pi for 1000000 dots: 3.152\n",
            "Approximate value of pi for 1000000 dots: 3.192\n",
            "Approximate value of pi for 1000000 dots: 3.1232\n",
            "Approximate value of pi for 1000000 dots: 3.0832\n",
            "Approximate value of pi for 1000000 dots: 3.0976\n",
            "Approximate value of pi for 1000000 dots: 3.2064\n",
            "Approximate value of pi for 1000000 dots: 3.12\n",
            "Approximate value of pi for 1000000 dots: 3.1488\n",
            "Approximate value of pi for 1000000 dots: 3.1648\n",
            "Approximate value of pi for 1000000 dots: 3.1536\n",
            "Approximate value of pi for 1000000 dots: 3.1776\n",
            "Approximate value of pi for 1000000 dots: 3.1248\n",
            "Approximate value of pi for 1000000 dots: 3.1344\n",
            "Approximate value of pi for 1000000 dots: 3.136\n",
            "Approximate value of pi for 1000000 dots: 3.16\n",
            "Approximate value of pi for 1000000 dots: 3.1104\n",
            "Approximate value of pi for 1000000 dots: 3.2016\n",
            "Approximate value of pi for 1000000 dots: 3.24\n",
            "Approximate value of pi for 1000000 dots: 3.1616\n",
            "Approximate value of pi for 1000000 dots: 3.12\n",
            "Approximate value of pi for 1000000 dots: 3.1984\n",
            "Approximate value of pi for 1000000 dots: 3.0848\n",
            "Approximate value of pi for 1000000 dots: 3.1136\n",
            "Approximate value of pi for 1000000 dots: 3.2\n",
            "Approximate value of pi for 1000000 dots: 3.096\n",
            "Approximate value of pi for 1000000 dots: 3.1456\n",
            "Approximate value of pi for 1000000 dots: 3.1616\n",
            "Approximate value of pi for 1000000 dots: 3.12\n",
            "Approximate value of pi for 1000000 dots: 3.2\n",
            "Approximate value of pi for 1000000 dots: 3.152\n",
            "Approximate value of pi for 1000000 dots: 3.1776\n",
            "Approximate value of pi for 1000000 dots: 3.1696\n",
            "Approximate value of pi for 1000000 dots: 3.1648\n",
            "Approximate value of pi for 1000000 dots: 3.1504\n",
            "Approximate value of pi for 1000000 dots: 3.1072\n",
            "Approximate value of pi for 1000000 dots: 3.1424\n",
            "Approximate value of pi for 1000000 dots: 3.0992\n",
            "Approximate value of pi for 1000000 dots: 3.0864\n",
            "Approximate value of pi for 1000000 dots: 3.0992\n",
            "Approximate value of pi for 1000000 dots: 3.1056\n",
            "Approximate value of pi for 1000000 dots: 3.1552\n",
            "Approximate value of pi for 1000000 dots: 3.1216\n",
            "Approximate value of pi for 1000000 dots: 3.1568\n",
            "Approximate value of pi for 1000000 dots: 3.0752\n",
            "Approximate value of pi for 1000000 dots: 3.1648\n",
            "Approximate value of pi for 1000000 dots: 3.136\n",
            "Approximate value of pi for 1000000 dots: 3.1488\n",
            "Approximate value of pi for 1000000 dots: 3.1296\n",
            "Approximate value of pi for 1000000 dots: 3.1552\n",
            "Approximate value of pi for 1000000 dots: 3.1536\n",
            "Approximate value of pi for 1000000 dots: 3.0896\n",
            "Approximate value of pi for 1000000 dots: 3.136\n",
            "Approximate value of pi for 1000000 dots: 3.1696\n",
            "Approximate value of pi for 1000000 dots: 3.1264\n",
            "Approximate value of pi for 1000000 dots: 3.1456\n",
            "Approximate value of pi for 1000000 dots: 3.1072\n",
            "Approximate value of pi for 1000000 dots: 3.1312\n",
            "Approximate value of pi for 1000000 dots: 3.1392\n",
            "Approximate value of pi for 1000000 dots: 3.1552\n",
            "Approximate value of pi for 1000000 dots: 3.1424\n",
            "Approximate value of pi for 1000000 dots: 3.1408\n",
            "Approximate value of pi for 1000000 dots: 3.1264\n",
            "Approximate value of pi for 1000000 dots: 3.104\n",
            "Approximate value of pi for 1000000 dots: 3.1712\n",
            "Approximate value of pi for 1000000 dots: 3.168\n",
            "Approximate value of pi for 1000000 dots: 3.2096\n",
            "Approximate value of pi for 1000000 dots: 3.144\n",
            "Approximate value of pi for 1000000 dots: 3.2288\n",
            "Approximate value of pi for 1000000 dots: 3.0832\n",
            "Approximate value of pi for 1000000 dots: 3.168\n",
            "Approximate value of pi for 1000000 dots: 3.112\n",
            "Approximate value of pi for 1000000 dots: 3.2128\n",
            "Approximate value of pi for 1000000 dots: 3.1184\n",
            "Approximate value of pi for 1000000 dots: 3.0544\n",
            "Approximate value of pi for 1000000 dots: 3.1088\n",
            "Approximate value of pi for 1000000 dots: 3.1568\n",
            "Approximate value of pi for 1000000 dots: 3.1136\n",
            "Approximate value of pi for 1000000 dots: 3.136\n",
            "Approximate value of pi for 1000000 dots: 3.1248\n",
            "Approximate value of pi for 1000000 dots: 3.1232\n",
            "Approximate value of pi for 1000000 dots: 3.1424\n",
            "Approximate value of pi for 1000000 dots: 3.1072\n",
            "Approximate value of pi for 1000000 dots: 3.1296\n",
            "Approximate value of pi for 1000000 dots: 3.152\n",
            "Approximate value of pi for 1000000 dots: 3.1424\n",
            "Approximate value of pi for 1000000 dots: 3.1696\n",
            "Approximate value of pi for 1000000 dots: 3.1504\n",
            "Approximate value of pi for 1000000 dots: 3.1648\n",
            "Approximate value of pi for 1000000 dots: 3.12\n",
            "Approximate value of pi for 1000000 dots: 3.1072\n",
            "Approximate value of pi for 1000000 dots: 3.12\n",
            "Approximate value of pi for 1000000 dots: 3.1584\n",
            "Approximate value of pi for 1000000 dots: 3.1152\n",
            "Approximate value of pi for 1000000 dots: 3.1952\n",
            "Approximate value of pi for 1000000 dots: 3.1488\n",
            "Approximate value of pi for 1000000 dots: 3.1488\n",
            "Approximate value of pi for 1000000 dots: 3.1024\n",
            "Approximate value of pi for 1000000 dots: 3.104\n",
            "Approximate value of pi for 1000000 dots: 3.1024\n",
            "Approximate value of pi for 1000000 dots: 3.0976\n",
            "Approximate value of pi for 1000000 dots: 3.1024\n",
            "Approximate value of pi for 1000000 dots: 3.128\n",
            "Approximate value of pi for 1000000 dots: 3.2096\n",
            "Approximate value of pi for 1000000 dots: 3.1056\n",
            "Approximate value of pi for 1000000 dots: 3.1728\n",
            "Approximate value of pi for 1000000 dots: 3.1408\n",
            "Approximate value of pi for 1000000 dots: 3.1792\n",
            "Approximate value of pi for 1000000 dots: 3.16\n",
            "Approximate value of pi for 1000000 dots: 3.152\n",
            "Approximate value of pi for 1000000 dots: 3.1296\n",
            "Approximate value of pi for 1000000 dots: 3.1536\n",
            "Approximate value of pi for 1000000 dots: 3.152\n",
            "Approximate value of pi for 1000000 dots: 3.152\n",
            "Approximate value of pi for 1000000 dots: 3.168\n",
            "Approximate value of pi for 1000000 dots: 3.1536\n",
            "Approximate value of pi for 1000000 dots: 3.1024\n",
            "Approximate value of pi for 1000000 dots: 3.1696\n",
            "Approximate value of pi for 1000000 dots: 3.1152\n",
            "Approximate value of pi for 1000000 dots: 3.1808\n",
            "Approximate value of pi for 1000000 dots: 3.0752\n",
            "Approximate value of pi for 1000000 dots: 3.1184\n",
            "Approximate value of pi for 1000000 dots: 3.1104\n",
            "Approximate value of pi for 1000000 dots: 3.1056\n",
            "Approximate value of pi for 1000000 dots: 3.1376\n",
            "Approximate value of pi for 1000000 dots: 3.1216\n",
            "Approximate value of pi for 1000000 dots: 3.1216\n",
            "Approximate value of pi for 1000000 dots: 3.1472\n",
            "Approximate value of pi for 1000000 dots: 3.1232\n",
            "Approximate value of pi for 1000000 dots: 3.1392\n",
            "Approximate value of pi for 1000000 dots: 3.1792\n",
            "Approximate value of pi for 1000000 dots: 3.1728\n",
            "Approximate value of pi for 1000000 dots: 3.0992\n",
            "Approximate value of pi for 1000000 dots: 3.12\n",
            "Approximate value of pi for 1000000 dots: 3.152\n",
            "Approximate value of pi for 1000000 dots: 3.1648\n",
            "Approximate value of pi for 1000000 dots: 3.12\n",
            "Approximate value of pi for 1000000 dots: 3.1312\n",
            "Approximate value of pi for 1000000 dots: 3.1776\n",
            "Approximate value of pi for 1000000 dots: 3.1312\n",
            "Approximate value of pi for 1000000 dots: 3.1408\n",
            "Approximate value of pi for 1000000 dots: 3.1248\n",
            "Approximate value of pi for 1000000 dots: 3.1168\n",
            "Approximate value of pi for 1000000 dots: 3.1216\n",
            "Approximate value of pi for 1000000 dots: 3.1584\n",
            "Approximate value of pi for 1000000 dots: 3.224\n",
            "Approximate value of pi for 1000000 dots: 3.208\n",
            "Approximate value of pi for 1000000 dots: 3.1616\n",
            "Approximate value of pi for 1000000 dots: 3.0896\n",
            "Approximate value of pi for 1000000 dots: 3.0928\n",
            "Approximate value of pi for 1000000 dots: 3.1456\n",
            "Approximate value of pi for 1000000 dots: 3.128\n",
            "Approximate value of pi for 1000000 dots: 3.152\n",
            "Approximate value of pi for 1000000 dots: 3.1568\n",
            "Approximate value of pi for 1000000 dots: 3.1392\n",
            "Approximate value of pi for 1000000 dots: 3.1056\n",
            "Approximate value of pi for 1000000 dots: 3.1376\n",
            "Approximate value of pi for 1000000 dots: 3.0944\n",
            "Approximate value of pi for 1000000 dots: 3.1088\n",
            "Approximate value of pi for 1000000 dots: 3.1424\n",
            "Approximate value of pi for 1000000 dots: 3.1424\n",
            "Approximate value of pi for 1000000 dots: 3.1696\n",
            "Approximate value of pi for 1000000 dots: 3.1344\n",
            "Approximate value of pi for 1000000 dots: 3.0928\n",
            "Approximate value of pi for 1000000 dots: 3.1424\n",
            "Approximate value of pi for 1000000 dots: 3.1552\n",
            "Approximate value of pi for 1000000 dots: 3.1776\n",
            "Approximate value of pi for 1000000 dots: 3.112\n",
            "Approximate value of pi for 1000000 dots: 3.0896\n",
            "Approximate value of pi for 1000000 dots: 3.1392\n",
            "Approximate value of pi for 1000000 dots: 3.1184\n",
            "Approximate value of pi for 1000000 dots: 3.1392\n",
            "Approximate value of pi for 1000000 dots: 3.0784\n",
            "Approximate value of pi for 1000000 dots: 3.1456\n",
            "Approximate value of pi for 1000000 dots: 3.1168\n",
            "Approximate value of pi for 1000000 dots: 3.1024\n",
            "Approximate value of pi for 1000000 dots: 3.184\n",
            "Approximate value of pi for 1000000 dots: 3.0928\n",
            "Approximate value of pi for 1000000 dots: 3.1248\n",
            "Approximate value of pi for 1000000 dots: 3.1296\n",
            "Approximate value of pi for 1000000 dots: 3.1792\n",
            "Approximate value of pi for 1000000 dots: 3.168\n",
            "Approximate value of pi for 1000000 dots: 3.1328\n",
            "Approximate value of pi for 1000000 dots: 3.1456\n",
            "Approximate value of pi for 1000000 dots: 3.136\n",
            "Approximate value of pi for 1000000 dots: 3.1584\n",
            "Approximate value of pi for 1000000 dots: 3.1312\n",
            "Approximate value of pi for 1000000 dots: 3.1536\n",
            "Approximate value of pi for 1000000 dots: 3.1792\n",
            "Approximate value of pi for 1000000 dots: 3.1248\n",
            "Approximate value of pi for 1000000 dots: 3.1616\n",
            "Approximate value of pi for 1000000 dots: 3.136\n",
            "Approximate value of pi for 1000000 dots: 3.112\n",
            "Approximate value of pi for 1000000 dots: 3.1136\n",
            "Approximate value of pi for 1000000 dots: 3.2048\n",
            "Approximate value of pi for 1000000 dots: 3.1616\n",
            "Approximate value of pi for 1000000 dots: 3.1696\n",
            "Approximate value of pi for 1000000 dots: 3.1184\n",
            "Approximate value of pi for 1000000 dots: 3.1472\n",
            "Approximate value of pi for 1000000 dots: 3.1216\n",
            "Approximate value of pi for 1000000 dots: 3.1072\n",
            "Approximate value of pi for 1000000 dots: 3.1264\n",
            "Approximate value of pi for 1000000 dots: 3.088\n",
            "Approximate value of pi for 1000000 dots: 3.1536\n",
            "Approximate value of pi for 1000000 dots: 3.0864\n",
            "Approximate value of pi for 1000000 dots: 3.152\n",
            "Approximate value of pi for 1000000 dots: 3.1552\n",
            "Approximate value of pi for 1000000 dots: 3.128\n",
            "Approximate value of pi for 1000000 dots: 3.1536\n",
            "Approximate value of pi for 1000000 dots: 3.168\n",
            "Approximate value of pi for 1000000 dots: 3.1072\n",
            "Approximate value of pi for 1000000 dots: 3.12\n",
            "Approximate value of pi for 1000000 dots: 3.1664\n",
            "Approximate value of pi for 1000000 dots: 3.112\n",
            "Approximate value of pi for 1000000 dots: 3.112\n",
            "Approximate value of pi for 1000000 dots: 3.1232\n",
            "Approximate value of pi for 1000000 dots: 3.1424\n",
            "Approximate value of pi for 1000000 dots: 3.1712\n",
            "Approximate value of pi for 1000000 dots: 3.048\n",
            "Approximate value of pi for 1000000 dots: 3.1312\n",
            "Approximate value of pi for 1000000 dots: 3.1584\n",
            "Approximate value of pi for 1000000 dots: 3.0944\n",
            "Approximate value of pi for 1000000 dots: 3.1472\n",
            "Approximate value of pi for 1000000 dots: 3.112\n",
            "Approximate value of pi for 1000000 dots: 3.128\n",
            "Approximate value of pi for 1000000 dots: 3.1488\n",
            "Approximate value of pi for 1000000 dots: 3.1104\n",
            "Approximate value of pi for 1000000 dots: 3.1136\n",
            "Approximate value of pi for 1000000 dots: 3.1456\n",
            "Approximate value of pi for 1000000 dots: 3.104\n",
            "Approximate value of pi for 1000000 dots: 3.0768\n",
            "Approximate value of pi for 1000000 dots: 3.112\n",
            "Approximate value of pi for 1000000 dots: 3.16\n",
            "Approximate value of pi for 1000000 dots: 3.1872\n",
            "Approximate value of pi for 1000000 dots: 3.1184\n",
            "Approximate value of pi for 1000000 dots: 3.1232\n",
            "Approximate value of pi for 1000000 dots: 3.1584\n",
            "Approximate value of pi for 1000000 dots: 3.112\n",
            "Approximate value of pi for 1000000 dots: 3.1248\n",
            "Approximate value of pi for 1000000 dots: 3.104\n",
            "Approximate value of pi for 1000000 dots: 3.1296\n",
            "Approximate value of pi for 1000000 dots: 3.1792\n",
            "Approximate value of pi for 1000000 dots: 3.1264\n",
            "Approximate value of pi for 1000000 dots: 3.152\n",
            "Approximate value of pi for 1000000 dots: 3.1904\n",
            "Approximate value of pi for 1000000 dots: 3.1072\n",
            "Approximate value of pi for 1000000 dots: 3.1568\n",
            "Approximate value of pi for 1000000 dots: 3.192\n",
            "Approximate value of pi for 1000000 dots: 3.0656\n",
            "Approximate value of pi for 1000000 dots: 3.1568\n",
            "Approximate value of pi for 1000000 dots: 3.16\n",
            "Approximate value of pi for 1000000 dots: 3.0672\n",
            "Approximate value of pi for 1000000 dots: 3.2112\n",
            "Approximate value of pi for 1000000 dots: 3.064\n",
            "Approximate value of pi for 1000000 dots: 3.1168\n",
            "Approximate value of pi for 1000000 dots: 3.04\n",
            "Approximate value of pi for 1000000 dots: 3.192\n",
            "Approximate value of pi for 1000000 dots: 3.0576\n",
            "Approximate value of pi for 1000000 dots: 3.1552\n",
            "Approximate value of pi for 1000000 dots: 3.0736\n",
            "Approximate value of pi for 1000000 dots: 3.152\n",
            "Approximate value of pi for 1000000 dots: 3.1072\n",
            "Approximate value of pi for 1000000 dots: 3.1616\n",
            "Approximate value of pi for 1000000 dots: 3.1216\n",
            "Approximate value of pi for 1000000 dots: 3.1744\n",
            "Approximate value of pi for 1000000 dots: 3.1424\n",
            "Approximate value of pi for 1000000 dots: 3.1616\n",
            "Approximate value of pi for 1000000 dots: 3.1616\n",
            "Approximate value of pi for 1000000 dots: 3.1728\n",
            "Approximate value of pi for 1000000 dots: 3.0656\n",
            "Approximate value of pi for 1000000 dots: 3.1568\n",
            "Approximate value of pi for 1000000 dots: 3.1488\n",
            "Approximate value of pi for 1000000 dots: 3.152\n",
            "Approximate value of pi for 1000000 dots: 3.1568\n",
            "Approximate value of pi for 1000000 dots: 3.0864\n",
            "Approximate value of pi for 1000000 dots: 3.1552\n",
            "Approximate value of pi for 1000000 dots: 3.1408\n",
            "Approximate value of pi for 1000000 dots: 3.136\n",
            "Approximate value of pi for 1000000 dots: 3.1536\n",
            "Approximate value of pi for 1000000 dots: 3.16\n",
            "Approximate value of pi for 1000000 dots: 3.168\n",
            "Approximate value of pi for 1000000 dots: 3.1744\n",
            "Approximate value of pi for 1000000 dots: 3.1584\n",
            "Approximate value of pi for 1000000 dots: 3.1184\n",
            "Approximate value of pi for 1000000 dots: 3.1072\n",
            "Approximate value of pi for 1000000 dots: 3.1952\n",
            "Approximate value of pi for 1000000 dots: 3.1184\n",
            "Approximate value of pi for 1000000 dots: 3.1152\n",
            "Approximate value of pi for 1000000 dots: 3.1536\n",
            "Approximate value of pi for 1000000 dots: 3.1264\n",
            "Approximate value of pi for 1000000 dots: 3.0944\n",
            "Approximate value of pi for 1000000 dots: 3.1088\n",
            "Approximate value of pi for 1000000 dots: 3.08\n",
            "Approximate value of pi for 1000000 dots: 3.1264\n",
            "Approximate value of pi for 1000000 dots: 3.0976\n",
            "Approximate value of pi for 1000000 dots: 3.1296\n",
            "Approximate value of pi for 1000000 dots: 3.1696\n",
            "Approximate value of pi for 1000000 dots: 3.1184\n",
            "Approximate value of pi for 1000000 dots: 3.1856\n",
            "Approximate value of pi for 1000000 dots: 3.1344\n",
            "Approximate value of pi for 1000000 dots: 3.1392\n",
            "Approximate value of pi for 1000000 dots: 3.12\n",
            "Approximate value of pi for 1000000 dots: 3.176\n",
            "Approximate value of pi for 1000000 dots: 3.1344\n",
            "Approximate value of pi for 1000000 dots: 3.1408\n",
            "Approximate value of pi for 1000000 dots: 3.1424\n",
            "Approximate value of pi for 1000000 dots: 3.1632\n",
            "Approximate value of pi for 1000000 dots: 3.1632\n",
            "Approximate value of pi for 1000000 dots: 3.1152\n",
            "Approximate value of pi for 1000000 dots: 3.168\n",
            "Approximate value of pi for 1000000 dots: 3.1664\n",
            "Approximate value of pi for 1000000 dots: 3.1248\n",
            "Approximate value of pi for 1000000 dots: 3.1376\n",
            "Approximate value of pi for 1000000 dots: 3.1376\n",
            "Approximate value of pi for 1000000 dots: 3.1264\n",
            "Approximate value of pi for 1000000 dots: 3.1648\n",
            "Approximate value of pi for 1000000 dots: 3.1056\n",
            "Approximate value of pi for 1000000 dots: 3.1184\n",
            "Approximate value of pi for 1000000 dots: 3.1872\n",
            "Approximate value of pi for 1000000 dots: 3.1408\n",
            "Approximate value of pi for 1000000 dots: 3.1136\n",
            "Approximate value of pi for 1000000 dots: 3.1104\n",
            "Approximate value of pi for 1000000 dots: 3.0928\n",
            "Approximate value of pi for 1000000 dots: 3.1056\n",
            "Approximate value of pi for 1000000 dots: 3.0928\n",
            "Approximate value of pi for 1000000 dots: 3.1328\n",
            "Approximate value of pi for 1000000 dots: 3.1392\n",
            "Approximate value of pi for 1000000 dots: 3.176\n",
            "Approximate value of pi for 1000000 dots: 3.1392\n",
            "Approximate value of pi for 1000000 dots: 3.1488\n",
            "Approximate value of pi for 1000000 dots: 3.1408\n",
            "Approximate value of pi for 1000000 dots: 3.1984\n",
            "Approximate value of pi for 1000000 dots: 3.144\n",
            "Approximate value of pi for 1000000 dots: 3.1776\n",
            "Approximate value of pi for 1000000 dots: 3.0928\n",
            "Approximate value of pi for 1000000 dots: 3.1024\n",
            "Approximate value of pi for 1000000 dots: 3.1856\n",
            "Approximate value of pi for 1000000 dots: 3.1264\n",
            "Approximate value of pi for 1000000 dots: 3.1216\n",
            "Approximate value of pi for 1000000 dots: 3.112\n",
            "Approximate value of pi for 1000000 dots: 3.152\n",
            "Approximate value of pi for 1000000 dots: 3.1648\n",
            "Approximate value of pi for 1000000 dots: 3.1072\n"
          ]
        },
        {
          "data": {
            "image/png": "[encoded data removed]",
            "text/plain": [
              "<Figure size 432x288 with 1 Axes>"
            ]
          },
          "metadata": {
            "needs_background": "light"
          },
          "output_type": "display_data"
        }
      ],
      "source": [
        "# ANSWER HERE\n",
        "storedVals = []\n",
        "for i in range(1000):\n",
        "    in_circle = 0\n",
        "    n1 = 2500\n",
        "    for i in range(n1):\n",
        "        x = np.random.random() *1 - 0.5\n",
        "        y = np.random.random() *1 - 0.5\n",
        "        if x**2 + y**2 <= 0.5**2:\n",
        "            in_circle += 1\n",
        "\n",
        "    pi_approx = (in_circle/n1) * 4\n",
        "    storedVals.append(pi_approx)\n",
        "    print(f\"Approximate value of pi for {n} dots: {pi_approx}\")\n",
        "plt.hist(storedVals)\n",
        "plt.show()"
      ]
    },
    {
      "cell_type": "code",
      "execution_count": 10,
      "metadata": {
        "collapsed": true,
        "jupyter": {
          "outputs_hidden": true
        },
        "colab": {
          "base_uri": "https://localhost:8080/",
          "height": 1000
        },
        "id": "XaZGsYtktX8T",
        "outputId": "a8b190fb-2d59-4818-f97d-d3f5abece399"
      },
      "outputs": [
        {
          "output_type": "stream",
          "name": "stdout",
          "text": [
            "Approximate value of pi for 99999 dots: 3.1404\n",
            "Approximate value of pi for 99999 dots: 3.1352\n",
            "Approximate value of pi for 99999 dots: 3.1172\n",
            "Approximate value of pi for 99999 dots: 3.1492\n",
            "Approximate value of pi for 99999 dots: 3.1428\n",
            "Approximate value of pi for 99999 dots: 3.1296\n",
            "Approximate value of pi for 99999 dots: 3.1516\n",
            "Approximate value of pi for 99999 dots: 3.1548\n",
            "Approximate value of pi for 99999 dots: 3.156\n",
            "Approximate value of pi for 99999 dots: 3.1512\n",
            "Approximate value of pi for 99999 dots: 3.142\n",
            "Approximate value of pi for 99999 dots: 3.13\n",
            "Approximate value of pi for 99999 dots: 3.1408\n",
            "Approximate value of pi for 99999 dots: 3.1848\n",
            "Approximate value of pi for 99999 dots: 3.1316\n",
            "Approximate value of pi for 99999 dots: 3.1552\n",
            "Approximate value of pi for 99999 dots: 3.1292\n",
            "Approximate value of pi for 99999 dots: 3.146\n",
            "Approximate value of pi for 99999 dots: 3.1536\n",
            "Approximate value of pi for 99999 dots: 3.1156\n",
            "Approximate value of pi for 99999 dots: 3.1832\n",
            "Approximate value of pi for 99999 dots: 3.1816\n",
            "Approximate value of pi for 99999 dots: 3.152\n",
            "Approximate value of pi for 99999 dots: 3.1288\n",
            "Approximate value of pi for 99999 dots: 3.142\n",
            "Approximate value of pi for 99999 dots: 3.1572\n",
            "Approximate value of pi for 99999 dots: 3.174\n",
            "Approximate value of pi for 99999 dots: 3.1472\n",
            "Approximate value of pi for 99999 dots: 3.1296\n",
            "Approximate value of pi for 99999 dots: 3.166\n",
            "Approximate value of pi for 99999 dots: 3.1388\n",
            "Approximate value of pi for 99999 dots: 3.1432\n",
            "Approximate value of pi for 99999 dots: 3.1516\n",
            "Approximate value of pi for 99999 dots: 3.18\n",
            "Approximate value of pi for 99999 dots: 3.128\n",
            "Approximate value of pi for 99999 dots: 3.1288\n",
            "Approximate value of pi for 99999 dots: 3.1384\n",
            "Approximate value of pi for 99999 dots: 3.1476\n",
            "Approximate value of pi for 99999 dots: 3.1516\n",
            "Approximate value of pi for 99999 dots: 3.1296\n",
            "Approximate value of pi for 99999 dots: 3.1128\n",
            "Approximate value of pi for 99999 dots: 3.1088\n",
            "Approximate value of pi for 99999 dots: 3.13\n",
            "Approximate value of pi for 99999 dots: 3.1248\n",
            "Approximate value of pi for 99999 dots: 3.1328\n",
            "Approximate value of pi for 99999 dots: 3.1248\n",
            "Approximate value of pi for 99999 dots: 3.1424\n",
            "Approximate value of pi for 99999 dots: 3.1452\n",
            "Approximate value of pi for 99999 dots: 3.1416\n",
            "Approximate value of pi for 99999 dots: 3.1608\n",
            "Approximate value of pi for 99999 dots: 3.1396\n",
            "Approximate value of pi for 99999 dots: 3.1432\n",
            "Approximate value of pi for 99999 dots: 3.1172\n",
            "Approximate value of pi for 99999 dots: 3.1184\n",
            "Approximate value of pi for 99999 dots: 3.1356\n",
            "Approximate value of pi for 99999 dots: 3.1164\n",
            "Approximate value of pi for 99999 dots: 3.1504\n",
            "Approximate value of pi for 99999 dots: 3.1492\n",
            "Approximate value of pi for 99999 dots: 3.166\n",
            "Approximate value of pi for 99999 dots: 3.1532\n",
            "Approximate value of pi for 99999 dots: 3.1384\n",
            "Approximate value of pi for 99999 dots: 3.1468\n",
            "Approximate value of pi for 99999 dots: 3.144\n",
            "Approximate value of pi for 99999 dots: 3.1316\n",
            "Approximate value of pi for 99999 dots: 3.1532\n",
            "Approximate value of pi for 99999 dots: 3.136\n",
            "Approximate value of pi for 99999 dots: 3.1356\n",
            "Approximate value of pi for 99999 dots: 3.162\n",
            "Approximate value of pi for 99999 dots: 3.128\n",
            "Approximate value of pi for 99999 dots: 3.1848\n",
            "Approximate value of pi for 99999 dots: 3.1408\n",
            "Approximate value of pi for 99999 dots: 3.1552\n",
            "Approximate value of pi for 99999 dots: 3.1376\n",
            "Approximate value of pi for 99999 dots: 3.152\n",
            "Approximate value of pi for 99999 dots: 3.1792\n",
            "Approximate value of pi for 99999 dots: 3.13\n",
            "Approximate value of pi for 99999 dots: 3.1196\n",
            "Approximate value of pi for 99999 dots: 3.1364\n",
            "Approximate value of pi for 99999 dots: 3.1268\n",
            "Approximate value of pi for 99999 dots: 3.138\n",
            "Approximate value of pi for 99999 dots: 3.1612\n",
            "Approximate value of pi for 99999 dots: 3.1268\n",
            "Approximate value of pi for 99999 dots: 3.152\n",
            "Approximate value of pi for 99999 dots: 3.1476\n",
            "Approximate value of pi for 99999 dots: 3.1444\n",
            "Approximate value of pi for 99999 dots: 3.174\n",
            "Approximate value of pi for 99999 dots: 3.1428\n",
            "Approximate value of pi for 99999 dots: 3.1508\n",
            "Approximate value of pi for 99999 dots: 3.1476\n",
            "Approximate value of pi for 99999 dots: 3.148\n",
            "Approximate value of pi for 99999 dots: 3.158\n",
            "Approximate value of pi for 99999 dots: 3.1396\n",
            "Approximate value of pi for 99999 dots: 3.1648\n",
            "Approximate value of pi for 99999 dots: 3.1596\n",
            "Approximate value of pi for 99999 dots: 3.122\n",
            "Approximate value of pi for 99999 dots: 3.1484\n",
            "Approximate value of pi for 99999 dots: 3.122\n",
            "Approximate value of pi for 99999 dots: 3.1564\n",
            "Approximate value of pi for 99999 dots: 3.1668\n",
            "Approximate value of pi for 99999 dots: 3.14\n",
            "Approximate value of pi for 99999 dots: 3.1476\n",
            "Approximate value of pi for 99999 dots: 3.1696\n",
            "Approximate value of pi for 99999 dots: 3.1304\n",
            "Approximate value of pi for 99999 dots: 3.1392\n",
            "Approximate value of pi for 99999 dots: 3.1436\n",
            "Approximate value of pi for 99999 dots: 3.1472\n",
            "Approximate value of pi for 99999 dots: 3.15\n",
            "Approximate value of pi for 99999 dots: 3.1464\n",
            "Approximate value of pi for 99999 dots: 3.158\n",
            "Approximate value of pi for 99999 dots: 3.162\n",
            "Approximate value of pi for 99999 dots: 3.1216\n",
            "Approximate value of pi for 99999 dots: 3.1416\n",
            "Approximate value of pi for 99999 dots: 3.1444\n",
            "Approximate value of pi for 99999 dots: 3.1368\n",
            "Approximate value of pi for 99999 dots: 3.1332\n",
            "Approximate value of pi for 99999 dots: 3.1456\n",
            "Approximate value of pi for 99999 dots: 3.126\n",
            "Approximate value of pi for 99999 dots: 3.1436\n",
            "Approximate value of pi for 99999 dots: 3.14\n",
            "Approximate value of pi for 99999 dots: 3.1312\n",
            "Approximate value of pi for 99999 dots: 3.1636\n",
            "Approximate value of pi for 99999 dots: 3.1056\n",
            "Approximate value of pi for 99999 dots: 3.1324\n",
            "Approximate value of pi for 99999 dots: 3.1504\n",
            "Approximate value of pi for 99999 dots: 3.15\n",
            "Approximate value of pi for 99999 dots: 3.118\n",
            "Approximate value of pi for 99999 dots: 3.1476\n",
            "Approximate value of pi for 99999 dots: 3.1408\n",
            "Approximate value of pi for 99999 dots: 3.1128\n",
            "Approximate value of pi for 99999 dots: 3.1252\n",
            "Approximate value of pi for 99999 dots: 3.1192\n",
            "Approximate value of pi for 99999 dots: 3.148\n",
            "Approximate value of pi for 99999 dots: 3.1536\n",
            "Approximate value of pi for 99999 dots: 3.1516\n",
            "Approximate value of pi for 99999 dots: 3.1368\n",
            "Approximate value of pi for 99999 dots: 3.1472\n",
            "Approximate value of pi for 99999 dots: 3.1388\n",
            "Approximate value of pi for 99999 dots: 3.1264\n",
            "Approximate value of pi for 99999 dots: 3.1524\n",
            "Approximate value of pi for 99999 dots: 3.1532\n",
            "Approximate value of pi for 99999 dots: 3.11\n",
            "Approximate value of pi for 99999 dots: 3.124\n",
            "Approximate value of pi for 99999 dots: 3.1396\n",
            "Approximate value of pi for 99999 dots: 3.138\n",
            "Approximate value of pi for 99999 dots: 3.14\n",
            "Approximate value of pi for 99999 dots: 3.144\n",
            "Approximate value of pi for 99999 dots: 3.1456\n",
            "Approximate value of pi for 99999 dots: 3.146\n",
            "Approximate value of pi for 99999 dots: 3.1352\n",
            "Approximate value of pi for 99999 dots: 3.1408\n",
            "Approximate value of pi for 99999 dots: 3.1384\n",
            "Approximate value of pi for 99999 dots: 3.1412\n",
            "Approximate value of pi for 99999 dots: 3.1116\n",
            "Approximate value of pi for 99999 dots: 3.158\n",
            "Approximate value of pi for 99999 dots: 3.1532\n",
            "Approximate value of pi for 99999 dots: 3.1228\n",
            "Approximate value of pi for 99999 dots: 3.1448\n",
            "Approximate value of pi for 99999 dots: 3.1256\n",
            "Approximate value of pi for 99999 dots: 3.1556\n",
            "Approximate value of pi for 99999 dots: 3.1344\n",
            "Approximate value of pi for 99999 dots: 3.166\n",
            "Approximate value of pi for 99999 dots: 3.132\n",
            "Approximate value of pi for 99999 dots: 3.168\n",
            "Approximate value of pi for 99999 dots: 3.148\n",
            "Approximate value of pi for 99999 dots: 3.1276\n",
            "Approximate value of pi for 99999 dots: 3.1332\n",
            "Approximate value of pi for 99999 dots: 3.1568\n",
            "Approximate value of pi for 99999 dots: 3.156\n",
            "Approximate value of pi for 99999 dots: 3.1336\n",
            "Approximate value of pi for 99999 dots: 3.1432\n",
            "Approximate value of pi for 99999 dots: 3.156\n",
            "Approximate value of pi for 99999 dots: 3.1396\n",
            "Approximate value of pi for 99999 dots: 3.1444\n",
            "Approximate value of pi for 99999 dots: 3.1632\n",
            "Approximate value of pi for 99999 dots: 3.144\n",
            "Approximate value of pi for 99999 dots: 3.1328\n",
            "Approximate value of pi for 99999 dots: 3.1248\n",
            "Approximate value of pi for 99999 dots: 3.1464\n",
            "Approximate value of pi for 99999 dots: 3.1524\n",
            "Approximate value of pi for 99999 dots: 3.1536\n",
            "Approximate value of pi for 99999 dots: 3.1328\n",
            "Approximate value of pi for 99999 dots: 3.1444\n",
            "Approximate value of pi for 99999 dots: 3.1316\n",
            "Approximate value of pi for 99999 dots: 3.148\n",
            "Approximate value of pi for 99999 dots: 3.1388\n",
            "Approximate value of pi for 99999 dots: 3.1336\n",
            "Approximate value of pi for 99999 dots: 3.1324\n",
            "Approximate value of pi for 99999 dots: 3.1572\n",
            "Approximate value of pi for 99999 dots: 3.1548\n",
            "Approximate value of pi for 99999 dots: 3.1636\n",
            "Approximate value of pi for 99999 dots: 3.1304\n",
            "Approximate value of pi for 99999 dots: 3.1764\n",
            "Approximate value of pi for 99999 dots: 3.1272\n",
            "Approximate value of pi for 99999 dots: 3.1256\n",
            "Approximate value of pi for 99999 dots: 3.1592\n",
            "Approximate value of pi for 99999 dots: 3.1468\n",
            "Approximate value of pi for 99999 dots: 3.1352\n",
            "Approximate value of pi for 99999 dots: 3.1804\n",
            "Approximate value of pi for 99999 dots: 3.1276\n",
            "Approximate value of pi for 99999 dots: 3.1236\n",
            "Approximate value of pi for 99999 dots: 3.1448\n",
            "Approximate value of pi for 99999 dots: 3.1212\n",
            "Approximate value of pi for 99999 dots: 3.1376\n",
            "Approximate value of pi for 99999 dots: 3.1348\n",
            "Approximate value of pi for 99999 dots: 3.1156\n",
            "Approximate value of pi for 99999 dots: 3.1524\n",
            "Approximate value of pi for 99999 dots: 3.138\n",
            "Approximate value of pi for 99999 dots: 3.1412\n",
            "Approximate value of pi for 99999 dots: 3.154\n",
            "Approximate value of pi for 99999 dots: 3.1316\n",
            "Approximate value of pi for 99999 dots: 3.1472\n",
            "Approximate value of pi for 99999 dots: 3.1792\n",
            "Approximate value of pi for 99999 dots: 3.1184\n",
            "Approximate value of pi for 99999 dots: 3.1488\n",
            "Approximate value of pi for 99999 dots: 3.1772\n",
            "Approximate value of pi for 99999 dots: 3.1412\n",
            "Approximate value of pi for 99999 dots: 3.1348\n",
            "Approximate value of pi for 99999 dots: 3.1376\n",
            "Approximate value of pi for 99999 dots: 3.1192\n",
            "Approximate value of pi for 99999 dots: 3.1292\n",
            "Approximate value of pi for 99999 dots: 3.1448\n",
            "Approximate value of pi for 99999 dots: 3.1428\n",
            "Approximate value of pi for 99999 dots: 3.158\n",
            "Approximate value of pi for 99999 dots: 3.1288\n",
            "Approximate value of pi for 99999 dots: 3.114\n",
            "Approximate value of pi for 99999 dots: 3.13\n",
            "Approximate value of pi for 99999 dots: 3.1688\n",
            "Approximate value of pi for 99999 dots: 3.1352\n",
            "Approximate value of pi for 99999 dots: 3.1164\n",
            "Approximate value of pi for 99999 dots: 3.1512\n",
            "Approximate value of pi for 99999 dots: 3.1528\n",
            "Approximate value of pi for 99999 dots: 3.1636\n",
            "Approximate value of pi for 99999 dots: 3.1228\n",
            "Approximate value of pi for 99999 dots: 3.1552\n",
            "Approximate value of pi for 99999 dots: 3.1264\n",
            "Approximate value of pi for 99999 dots: 3.1628\n",
            "Approximate value of pi for 99999 dots: 3.1544\n",
            "Approximate value of pi for 99999 dots: 3.1528\n",
            "Approximate value of pi for 99999 dots: 3.1476\n",
            "Approximate value of pi for 99999 dots: 3.1444\n",
            "Approximate value of pi for 99999 dots: 3.1388\n",
            "Approximate value of pi for 99999 dots: 3.1364\n",
            "Approximate value of pi for 99999 dots: 3.1508\n",
            "Approximate value of pi for 99999 dots: 3.162\n",
            "Approximate value of pi for 99999 dots: 3.1364\n",
            "Approximate value of pi for 99999 dots: 3.146\n",
            "Approximate value of pi for 99999 dots: 3.1292\n",
            "Approximate value of pi for 99999 dots: 3.1432\n",
            "Approximate value of pi for 99999 dots: 3.1336\n",
            "Approximate value of pi for 99999 dots: 3.1428\n",
            "Approximate value of pi for 99999 dots: 3.1336\n",
            "Approximate value of pi for 99999 dots: 3.1224\n",
            "Approximate value of pi for 99999 dots: 3.126\n",
            "Approximate value of pi for 99999 dots: 3.1264\n",
            "Approximate value of pi for 99999 dots: 3.1752\n",
            "Approximate value of pi for 99999 dots: 3.1512\n",
            "Approximate value of pi for 99999 dots: 3.1504\n",
            "Approximate value of pi for 99999 dots: 3.1572\n",
            "Approximate value of pi for 99999 dots: 3.1316\n",
            "Approximate value of pi for 99999 dots: 3.1668\n",
            "Approximate value of pi for 99999 dots: 3.144\n",
            "Approximate value of pi for 99999 dots: 3.1532\n",
            "Approximate value of pi for 99999 dots: 3.1548\n",
            "Approximate value of pi for 99999 dots: 3.1084\n",
            "Approximate value of pi for 99999 dots: 3.132\n",
            "Approximate value of pi for 99999 dots: 3.1548\n",
            "Approximate value of pi for 99999 dots: 3.1388\n",
            "Approximate value of pi for 99999 dots: 3.1108\n",
            "Approximate value of pi for 99999 dots: 3.1376\n",
            "Approximate value of pi for 99999 dots: 3.156\n",
            "Approximate value of pi for 99999 dots: 3.1144\n",
            "Approximate value of pi for 99999 dots: 3.1516\n",
            "Approximate value of pi for 99999 dots: 3.136\n",
            "Approximate value of pi for 99999 dots: 3.1468\n",
            "Approximate value of pi for 99999 dots: 3.1688\n",
            "Approximate value of pi for 99999 dots: 3.1376\n",
            "Approximate value of pi for 99999 dots: 3.1376\n",
            "Approximate value of pi for 99999 dots: 3.1376\n",
            "Approximate value of pi for 99999 dots: 3.1176\n",
            "Approximate value of pi for 99999 dots: 3.1212\n",
            "Approximate value of pi for 99999 dots: 3.1244\n",
            "Approximate value of pi for 99999 dots: 3.1492\n",
            "Approximate value of pi for 99999 dots: 3.1324\n",
            "Approximate value of pi for 99999 dots: 3.1648\n",
            "Approximate value of pi for 99999 dots: 3.1364\n",
            "Approximate value of pi for 99999 dots: 3.146\n",
            "Approximate value of pi for 99999 dots: 3.1448\n",
            "Approximate value of pi for 99999 dots: 3.1388\n",
            "Approximate value of pi for 99999 dots: 3.1428\n",
            "Approximate value of pi for 99999 dots: 3.158\n",
            "Approximate value of pi for 99999 dots: 3.1272\n",
            "Approximate value of pi for 99999 dots: 3.1632\n",
            "Approximate value of pi for 99999 dots: 3.1572\n",
            "Approximate value of pi for 99999 dots: 3.1352\n",
            "Approximate value of pi for 99999 dots: 3.1584\n",
            "Approximate value of pi for 99999 dots: 3.1604\n",
            "Approximate value of pi for 99999 dots: 3.1668\n",
            "Approximate value of pi for 99999 dots: 3.1592\n",
            "Approximate value of pi for 99999 dots: 3.1524\n",
            "Approximate value of pi for 99999 dots: 3.1224\n",
            "Approximate value of pi for 99999 dots: 3.1276\n",
            "Approximate value of pi for 99999 dots: 3.1344\n",
            "Approximate value of pi for 99999 dots: 3.1344\n",
            "Approximate value of pi for 99999 dots: 3.166\n",
            "Approximate value of pi for 99999 dots: 3.1204\n",
            "Approximate value of pi for 99999 dots: 3.1532\n",
            "Approximate value of pi for 99999 dots: 3.1336\n",
            "Approximate value of pi for 99999 dots: 3.144\n",
            "Approximate value of pi for 99999 dots: 3.1312\n",
            "Approximate value of pi for 99999 dots: 3.1404\n",
            "Approximate value of pi for 99999 dots: 3.1304\n",
            "Approximate value of pi for 99999 dots: 3.1568\n",
            "Approximate value of pi for 99999 dots: 3.1268\n",
            "Approximate value of pi for 99999 dots: 3.1564\n",
            "Approximate value of pi for 99999 dots: 3.1348\n",
            "Approximate value of pi for 99999 dots: 3.1492\n",
            "Approximate value of pi for 99999 dots: 3.0996\n",
            "Approximate value of pi for 99999 dots: 3.1472\n",
            "Approximate value of pi for 99999 dots: 3.1324\n",
            "Approximate value of pi for 99999 dots: 3.1448\n",
            "Approximate value of pi for 99999 dots: 3.1452\n",
            "Approximate value of pi for 99999 dots: 3.1096\n",
            "Approximate value of pi for 99999 dots: 3.152\n",
            "Approximate value of pi for 99999 dots: 3.1204\n",
            "Approximate value of pi for 99999 dots: 3.1332\n",
            "Approximate value of pi for 99999 dots: 3.1576\n",
            "Approximate value of pi for 99999 dots: 3.1408\n",
            "Approximate value of pi for 99999 dots: 3.1456\n",
            "Approximate value of pi for 99999 dots: 3.142\n",
            "Approximate value of pi for 99999 dots: 3.1204\n",
            "Approximate value of pi for 99999 dots: 3.1352\n",
            "Approximate value of pi for 99999 dots: 3.1208\n",
            "Approximate value of pi for 99999 dots: 3.1196\n",
            "Approximate value of pi for 99999 dots: 3.1332\n",
            "Approximate value of pi for 99999 dots: 3.1248\n",
            "Approximate value of pi for 99999 dots: 3.1548\n",
            "Approximate value of pi for 99999 dots: 3.142\n",
            "Approximate value of pi for 99999 dots: 3.1492\n",
            "Approximate value of pi for 99999 dots: 3.1536\n",
            "Approximate value of pi for 99999 dots: 3.1416\n",
            "Approximate value of pi for 99999 dots: 3.1392\n",
            "Approximate value of pi for 99999 dots: 3.1228\n",
            "Approximate value of pi for 99999 dots: 3.1556\n",
            "Approximate value of pi for 99999 dots: 3.1588\n",
            "Approximate value of pi for 99999 dots: 3.1392\n",
            "Approximate value of pi for 99999 dots: 3.146\n",
            "Approximate value of pi for 99999 dots: 3.1428\n",
            "Approximate value of pi for 99999 dots: 3.1524\n",
            "Approximate value of pi for 99999 dots: 3.168\n",
            "Approximate value of pi for 99999 dots: 3.1244\n",
            "Approximate value of pi for 99999 dots: 3.1296\n",
            "Approximate value of pi for 99999 dots: 3.126\n",
            "Approximate value of pi for 99999 dots: 3.134\n",
            "Approximate value of pi for 99999 dots: 3.146\n",
            "Approximate value of pi for 99999 dots: 3.1296\n",
            "Approximate value of pi for 99999 dots: 3.1588\n",
            "Approximate value of pi for 99999 dots: 3.1344\n",
            "Approximate value of pi for 99999 dots: 3.1488\n",
            "Approximate value of pi for 99999 dots: 3.1132\n",
            "Approximate value of pi for 99999 dots: 3.1344\n",
            "Approximate value of pi for 99999 dots: 3.166\n",
            "Approximate value of pi for 99999 dots: 3.168\n",
            "Approximate value of pi for 99999 dots: 3.1548\n",
            "Approximate value of pi for 99999 dots: 3.144\n",
            "Approximate value of pi for 99999 dots: 3.1448\n",
            "Approximate value of pi for 99999 dots: 3.1416\n",
            "Approximate value of pi for 99999 dots: 3.1348\n",
            "Approximate value of pi for 99999 dots: 3.1464\n",
            "Approximate value of pi for 99999 dots: 3.1536\n",
            "Approximate value of pi for 99999 dots: 3.1564\n",
            "Approximate value of pi for 99999 dots: 3.1336\n",
            "Approximate value of pi for 99999 dots: 3.1528\n",
            "Approximate value of pi for 99999 dots: 3.13\n",
            "Approximate value of pi for 99999 dots: 3.1372\n",
            "Approximate value of pi for 99999 dots: 3.1172\n",
            "Approximate value of pi for 99999 dots: 3.1552\n",
            "Approximate value of pi for 99999 dots: 3.1568\n",
            "Approximate value of pi for 99999 dots: 3.158\n",
            "Approximate value of pi for 99999 dots: 3.1348\n",
            "Approximate value of pi for 99999 dots: 3.1216\n",
            "Approximate value of pi for 99999 dots: 3.142\n",
            "Approximate value of pi for 99999 dots: 3.1272\n",
            "Approximate value of pi for 99999 dots: 3.1552\n",
            "Approximate value of pi for 99999 dots: 3.1588\n",
            "Approximate value of pi for 99999 dots: 3.14\n",
            "Approximate value of pi for 99999 dots: 3.1584\n",
            "Approximate value of pi for 99999 dots: 3.1264\n",
            "Approximate value of pi for 99999 dots: 3.1408\n",
            "Approximate value of pi for 99999 dots: 3.1392\n",
            "Approximate value of pi for 99999 dots: 3.16\n",
            "Approximate value of pi for 99999 dots: 3.1144\n",
            "Approximate value of pi for 99999 dots: 3.154\n",
            "Approximate value of pi for 99999 dots: 3.1308\n",
            "Approximate value of pi for 99999 dots: 3.1188\n",
            "Approximate value of pi for 99999 dots: 3.1436\n",
            "Approximate value of pi for 99999 dots: 3.1452\n",
            "Approximate value of pi for 99999 dots: 3.1456\n",
            "Approximate value of pi for 99999 dots: 3.13\n",
            "Approximate value of pi for 99999 dots: 3.1356\n",
            "Approximate value of pi for 99999 dots: 3.1296\n",
            "Approximate value of pi for 99999 dots: 3.14\n",
            "Approximate value of pi for 99999 dots: 3.1556\n",
            "Approximate value of pi for 99999 dots: 3.1612\n",
            "Approximate value of pi for 99999 dots: 3.1196\n",
            "Approximate value of pi for 99999 dots: 3.1288\n",
            "Approximate value of pi for 99999 dots: 3.1284\n",
            "Approximate value of pi for 99999 dots: 3.1212\n",
            "Approximate value of pi for 99999 dots: 3.1224\n",
            "Approximate value of pi for 99999 dots: 3.13\n",
            "Approximate value of pi for 99999 dots: 3.1488\n",
            "Approximate value of pi for 99999 dots: 3.1128\n",
            "Approximate value of pi for 99999 dots: 3.1592\n",
            "Approximate value of pi for 99999 dots: 3.1224\n",
            "Approximate value of pi for 99999 dots: 3.1268\n",
            "Approximate value of pi for 99999 dots: 3.1392\n",
            "Approximate value of pi for 99999 dots: 3.1452\n",
            "Approximate value of pi for 99999 dots: 3.1508\n",
            "Approximate value of pi for 99999 dots: 3.1368\n",
            "Approximate value of pi for 99999 dots: 3.1648\n",
            "Approximate value of pi for 99999 dots: 3.1108\n",
            "Approximate value of pi for 99999 dots: 3.18\n",
            "Approximate value of pi for 99999 dots: 3.1408\n",
            "Approximate value of pi for 99999 dots: 3.1456\n",
            "Approximate value of pi for 99999 dots: 3.1468\n",
            "Approximate value of pi for 99999 dots: 3.132\n",
            "Approximate value of pi for 99999 dots: 3.1364\n",
            "Approximate value of pi for 99999 dots: 3.1448\n",
            "Approximate value of pi for 99999 dots: 3.106\n",
            "Approximate value of pi for 99999 dots: 3.1148\n",
            "Approximate value of pi for 99999 dots: 3.1156\n",
            "Approximate value of pi for 99999 dots: 3.1092\n",
            "Approximate value of pi for 99999 dots: 3.1192\n",
            "Approximate value of pi for 99999 dots: 3.1376\n",
            "Approximate value of pi for 99999 dots: 3.1448\n",
            "Approximate value of pi for 99999 dots: 3.1284\n",
            "Approximate value of pi for 99999 dots: 3.1232\n",
            "Approximate value of pi for 99999 dots: 3.1564\n",
            "Approximate value of pi for 99999 dots: 3.1424\n",
            "Approximate value of pi for 99999 dots: 3.1436\n",
            "Approximate value of pi for 99999 dots: 3.154\n",
            "Approximate value of pi for 99999 dots: 3.1304\n",
            "Approximate value of pi for 99999 dots: 3.1456\n",
            "Approximate value of pi for 99999 dots: 3.1604\n",
            "Approximate value of pi for 99999 dots: 3.1604\n",
            "Approximate value of pi for 99999 dots: 3.1424\n",
            "Approximate value of pi for 99999 dots: 3.1484\n",
            "Approximate value of pi for 99999 dots: 3.1656\n",
            "Approximate value of pi for 99999 dots: 3.1272\n",
            "Approximate value of pi for 99999 dots: 3.1412\n",
            "Approximate value of pi for 99999 dots: 3.1324\n",
            "Approximate value of pi for 99999 dots: 3.162\n",
            "Approximate value of pi for 99999 dots: 3.1424\n",
            "Approximate value of pi for 99999 dots: 3.1604\n",
            "Approximate value of pi for 99999 dots: 3.1128\n",
            "Approximate value of pi for 99999 dots: 3.1612\n",
            "Approximate value of pi for 99999 dots: 3.164\n",
            "Approximate value of pi for 99999 dots: 3.1432\n",
            "Approximate value of pi for 99999 dots: 3.13\n",
            "Approximate value of pi for 99999 dots: 3.1648\n",
            "Approximate value of pi for 99999 dots: 3.1368\n",
            "Approximate value of pi for 99999 dots: 3.13\n",
            "Approximate value of pi for 99999 dots: 3.1292\n",
            "Approximate value of pi for 99999 dots: 3.162\n",
            "Approximate value of pi for 99999 dots: 3.1448\n",
            "Approximate value of pi for 99999 dots: 3.14\n",
            "Approximate value of pi for 99999 dots: 3.1248\n",
            "Approximate value of pi for 99999 dots: 3.1676\n",
            "Approximate value of pi for 99999 dots: 3.1552\n",
            "Approximate value of pi for 99999 dots: 3.1644\n",
            "Approximate value of pi for 99999 dots: 3.1356\n",
            "Approximate value of pi for 99999 dots: 3.1348\n",
            "Approximate value of pi for 99999 dots: 3.1108\n",
            "Approximate value of pi for 99999 dots: 3.1684\n",
            "Approximate value of pi for 99999 dots: 3.1248\n",
            "Approximate value of pi for 99999 dots: 3.162\n",
            "Approximate value of pi for 99999 dots: 3.142\n",
            "Approximate value of pi for 99999 dots: 3.1196\n",
            "Approximate value of pi for 99999 dots: 3.1668\n",
            "Approximate value of pi for 99999 dots: 3.1068\n",
            "Approximate value of pi for 99999 dots: 3.1372\n",
            "Approximate value of pi for 99999 dots: 3.1344\n",
            "Approximate value of pi for 99999 dots: 3.142\n",
            "Approximate value of pi for 99999 dots: 3.1276\n",
            "Approximate value of pi for 99999 dots: 3.1632\n",
            "Approximate value of pi for 99999 dots: 3.1312\n",
            "Approximate value of pi for 99999 dots: 3.1396\n",
            "Approximate value of pi for 99999 dots: 3.1132\n",
            "Approximate value of pi for 99999 dots: 3.1316\n",
            "Approximate value of pi for 99999 dots: 3.1176\n",
            "Approximate value of pi for 99999 dots: 3.1432\n",
            "Approximate value of pi for 99999 dots: 3.1188\n",
            "Approximate value of pi for 99999 dots: 3.102\n",
            "Approximate value of pi for 99999 dots: 3.15\n",
            "Approximate value of pi for 99999 dots: 3.1544\n",
            "Approximate value of pi for 99999 dots: 3.16\n",
            "Approximate value of pi for 99999 dots: 3.164\n",
            "Approximate value of pi for 99999 dots: 3.1668\n",
            "Approximate value of pi for 99999 dots: 3.1252\n",
            "Approximate value of pi for 99999 dots: 3.176\n",
            "Approximate value of pi for 99999 dots: 3.1568\n",
            "Approximate value of pi for 99999 dots: 3.12\n",
            "Approximate value of pi for 99999 dots: 3.1088\n",
            "Approximate value of pi for 99999 dots: 3.168\n",
            "Approximate value of pi for 99999 dots: 3.1616\n",
            "Approximate value of pi for 99999 dots: 3.1508\n",
            "Approximate value of pi for 99999 dots: 3.1628\n",
            "Approximate value of pi for 99999 dots: 3.1412\n",
            "Approximate value of pi for 99999 dots: 3.1508\n",
            "Approximate value of pi for 99999 dots: 3.1324\n",
            "Approximate value of pi for 99999 dots: 3.1412\n",
            "Approximate value of pi for 99999 dots: 3.188\n",
            "Approximate value of pi for 99999 dots: 3.1512\n",
            "Approximate value of pi for 99999 dots: 3.1252\n",
            "Approximate value of pi for 99999 dots: 3.1116\n",
            "Approximate value of pi for 99999 dots: 3.1432\n",
            "Approximate value of pi for 99999 dots: 3.1672\n",
            "Approximate value of pi for 99999 dots: 3.1428\n",
            "Approximate value of pi for 99999 dots: 3.14\n",
            "Approximate value of pi for 99999 dots: 3.164\n",
            "Approximate value of pi for 99999 dots: 3.144\n",
            "Approximate value of pi for 99999 dots: 3.1316\n",
            "Approximate value of pi for 99999 dots: 3.1252\n",
            "Approximate value of pi for 99999 dots: 3.1632\n",
            "Approximate value of pi for 99999 dots: 3.1492\n",
            "Approximate value of pi for 99999 dots: 3.1416\n",
            "Approximate value of pi for 99999 dots: 3.1196\n",
            "Approximate value of pi for 99999 dots: 3.1248\n",
            "Approximate value of pi for 99999 dots: 3.1696\n",
            "Approximate value of pi for 99999 dots: 3.1136\n",
            "Approximate value of pi for 99999 dots: 3.1312\n",
            "Approximate value of pi for 99999 dots: 3.1344\n",
            "Approximate value of pi for 99999 dots: 3.128\n",
            "Approximate value of pi for 99999 dots: 3.1156\n",
            "Approximate value of pi for 99999 dots: 3.1336\n",
            "Approximate value of pi for 99999 dots: 3.1496\n",
            "Approximate value of pi for 99999 dots: 3.126\n",
            "Approximate value of pi for 99999 dots: 3.1444\n",
            "Approximate value of pi for 99999 dots: 3.1288\n",
            "Approximate value of pi for 99999 dots: 3.1792\n",
            "Approximate value of pi for 99999 dots: 3.1508\n",
            "Approximate value of pi for 99999 dots: 3.1244\n",
            "Approximate value of pi for 99999 dots: 3.1596\n",
            "Approximate value of pi for 99999 dots: 3.1436\n",
            "Approximate value of pi for 99999 dots: 3.14\n",
            "Approximate value of pi for 99999 dots: 3.1392\n",
            "Approximate value of pi for 99999 dots: 3.1116\n",
            "Approximate value of pi for 99999 dots: 3.156\n",
            "Approximate value of pi for 99999 dots: 3.1364\n",
            "Approximate value of pi for 99999 dots: 3.1452\n",
            "Approximate value of pi for 99999 dots: 3.1488\n",
            "Approximate value of pi for 99999 dots: 3.1448\n",
            "Approximate value of pi for 99999 dots: 3.1496\n",
            "Approximate value of pi for 99999 dots: 3.1232\n",
            "Approximate value of pi for 99999 dots: 3.142\n",
            "Approximate value of pi for 99999 dots: 3.1248\n",
            "Approximate value of pi for 99999 dots: 3.1588\n",
            "Approximate value of pi for 99999 dots: 3.1208\n",
            "Approximate value of pi for 99999 dots: 3.15\n",
            "Approximate value of pi for 99999 dots: 3.1488\n",
            "Approximate value of pi for 99999 dots: 3.1216\n",
            "Approximate value of pi for 99999 dots: 3.1464\n",
            "Approximate value of pi for 99999 dots: 3.1312\n",
            "Approximate value of pi for 99999 dots: 3.1432\n",
            "Approximate value of pi for 99999 dots: 3.136\n",
            "Approximate value of pi for 99999 dots: 3.124\n",
            "Approximate value of pi for 99999 dots: 3.1812\n",
            "Approximate value of pi for 99999 dots: 3.1276\n",
            "Approximate value of pi for 99999 dots: 3.138\n",
            "Approximate value of pi for 99999 dots: 3.1304\n",
            "Approximate value of pi for 99999 dots: 3.1384\n",
            "Approximate value of pi for 99999 dots: 3.1184\n",
            "Approximate value of pi for 99999 dots: 3.1708\n",
            "Approximate value of pi for 99999 dots: 3.1596\n",
            "Approximate value of pi for 99999 dots: 3.132\n",
            "Approximate value of pi for 99999 dots: 3.15\n",
            "Approximate value of pi for 99999 dots: 3.1692\n",
            "Approximate value of pi for 99999 dots: 3.0976\n",
            "Approximate value of pi for 99999 dots: 3.1188\n",
            "Approximate value of pi for 99999 dots: 3.1304\n",
            "Approximate value of pi for 99999 dots: 3.1512\n",
            "Approximate value of pi for 99999 dots: 3.1324\n",
            "Approximate value of pi for 99999 dots: 3.162\n",
            "Approximate value of pi for 99999 dots: 3.1364\n",
            "Approximate value of pi for 99999 dots: 3.146\n",
            "Approximate value of pi for 99999 dots: 3.1248\n",
            "Approximate value of pi for 99999 dots: 3.1312\n",
            "Approximate value of pi for 99999 dots: 3.1208\n",
            "Approximate value of pi for 99999 dots: 3.1724\n",
            "Approximate value of pi for 99999 dots: 3.1392\n",
            "Approximate value of pi for 99999 dots: 3.1168\n",
            "Approximate value of pi for 99999 dots: 3.1492\n",
            "Approximate value of pi for 99999 dots: 3.1328\n",
            "Approximate value of pi for 99999 dots: 3.1472\n",
            "Approximate value of pi for 99999 dots: 3.1276\n",
            "Approximate value of pi for 99999 dots: 3.1324\n",
            "Approximate value of pi for 99999 dots: 3.1072\n",
            "Approximate value of pi for 99999 dots: 3.1236\n",
            "Approximate value of pi for 99999 dots: 3.1372\n",
            "Approximate value of pi for 99999 dots: 3.156\n",
            "Approximate value of pi for 99999 dots: 3.1376\n",
            "Approximate value of pi for 99999 dots: 3.1236\n",
            "Approximate value of pi for 99999 dots: 3.1596\n",
            "Approximate value of pi for 99999 dots: 3.1412\n",
            "Approximate value of pi for 99999 dots: 3.128\n",
            "Approximate value of pi for 99999 dots: 3.162\n",
            "Approximate value of pi for 99999 dots: 3.1208\n",
            "Approximate value of pi for 99999 dots: 3.1428\n",
            "Approximate value of pi for 99999 dots: 3.1448\n",
            "Approximate value of pi for 99999 dots: 3.1484\n",
            "Approximate value of pi for 99999 dots: 3.1664\n",
            "Approximate value of pi for 99999 dots: 3.144\n",
            "Approximate value of pi for 99999 dots: 3.1328\n",
            "Approximate value of pi for 99999 dots: 3.1396\n",
            "Approximate value of pi for 99999 dots: 3.1608\n",
            "Approximate value of pi for 99999 dots: 3.1512\n",
            "Approximate value of pi for 99999 dots: 3.116\n",
            "Approximate value of pi for 99999 dots: 3.1156\n",
            "Approximate value of pi for 99999 dots: 3.158\n",
            "Approximate value of pi for 99999 dots: 3.1608\n",
            "Approximate value of pi for 99999 dots: 3.118\n",
            "Approximate value of pi for 99999 dots: 3.1636\n",
            "Approximate value of pi for 99999 dots: 3.15\n",
            "Approximate value of pi for 99999 dots: 3.1376\n",
            "Approximate value of pi for 99999 dots: 3.1188\n",
            "Approximate value of pi for 99999 dots: 3.1444\n",
            "Approximate value of pi for 99999 dots: 3.1488\n",
            "Approximate value of pi for 99999 dots: 3.1476\n",
            "Approximate value of pi for 99999 dots: 3.1264\n",
            "Approximate value of pi for 99999 dots: 3.1152\n",
            "Approximate value of pi for 99999 dots: 3.1476\n",
            "Approximate value of pi for 99999 dots: 3.1268\n",
            "Approximate value of pi for 99999 dots: 3.184\n",
            "Approximate value of pi for 99999 dots: 3.1348\n",
            "Approximate value of pi for 99999 dots: 3.1352\n",
            "Approximate value of pi for 99999 dots: 3.1452\n",
            "Approximate value of pi for 99999 dots: 3.174\n",
            "Approximate value of pi for 99999 dots: 3.1572\n",
            "Approximate value of pi for 99999 dots: 3.1332\n",
            "Approximate value of pi for 99999 dots: 3.1428\n",
            "Approximate value of pi for 99999 dots: 3.1328\n",
            "Approximate value of pi for 99999 dots: 3.166\n",
            "Approximate value of pi for 99999 dots: 3.1296\n",
            "Approximate value of pi for 99999 dots: 3.1428\n",
            "Approximate value of pi for 99999 dots: 3.1316\n",
            "Approximate value of pi for 99999 dots: 3.1444\n",
            "Approximate value of pi for 99999 dots: 3.1176\n",
            "Approximate value of pi for 99999 dots: 3.1496\n",
            "Approximate value of pi for 99999 dots: 3.1284\n",
            "Approximate value of pi for 99999 dots: 3.1464\n",
            "Approximate value of pi for 99999 dots: 3.126\n",
            "Approximate value of pi for 99999 dots: 3.1568\n",
            "Approximate value of pi for 99999 dots: 3.1068\n",
            "Approximate value of pi for 99999 dots: 3.1404\n",
            "Approximate value of pi for 99999 dots: 3.1464\n",
            "Approximate value of pi for 99999 dots: 3.1264\n",
            "Approximate value of pi for 99999 dots: 3.1236\n",
            "Approximate value of pi for 99999 dots: 3.1752\n",
            "Approximate value of pi for 99999 dots: 3.1656\n",
            "Approximate value of pi for 99999 dots: 3.1512\n",
            "Approximate value of pi for 99999 dots: 3.1292\n",
            "Approximate value of pi for 99999 dots: 3.1512\n",
            "Approximate value of pi for 99999 dots: 3.13\n",
            "Approximate value of pi for 99999 dots: 3.1588\n",
            "Approximate value of pi for 99999 dots: 3.1424\n",
            "Approximate value of pi for 99999 dots: 3.1312\n",
            "Approximate value of pi for 99999 dots: 3.1328\n",
            "Approximate value of pi for 99999 dots: 3.148\n",
            "Approximate value of pi for 99999 dots: 3.126\n",
            "Approximate value of pi for 99999 dots: 3.1316\n",
            "Approximate value of pi for 99999 dots: 3.1272\n",
            "Approximate value of pi for 99999 dots: 3.1216\n",
            "Approximate value of pi for 99999 dots: 3.1448\n",
            "Approximate value of pi for 99999 dots: 3.1308\n",
            "Approximate value of pi for 99999 dots: 3.1464\n",
            "Approximate value of pi for 99999 dots: 3.1448\n",
            "Approximate value of pi for 99999 dots: 3.1508\n",
            "Approximate value of pi for 99999 dots: 3.1532\n",
            "Approximate value of pi for 99999 dots: 3.1564\n",
            "Approximate value of pi for 99999 dots: 3.1272\n",
            "Approximate value of pi for 99999 dots: 3.1228\n",
            "Approximate value of pi for 99999 dots: 3.1416\n",
            "Approximate value of pi for 99999 dots: 3.142\n",
            "Approximate value of pi for 99999 dots: 3.1068\n",
            "Approximate value of pi for 99999 dots: 3.1052\n",
            "Approximate value of pi for 99999 dots: 3.1224\n",
            "Approximate value of pi for 99999 dots: 3.1364\n",
            "Approximate value of pi for 99999 dots: 3.1456\n",
            "Approximate value of pi for 99999 dots: 3.1228\n",
            "Approximate value of pi for 99999 dots: 3.1648\n",
            "Approximate value of pi for 99999 dots: 3.1492\n",
            "Approximate value of pi for 99999 dots: 3.1456\n",
            "Approximate value of pi for 99999 dots: 3.168\n",
            "Approximate value of pi for 99999 dots: 3.14\n",
            "Approximate value of pi for 99999 dots: 3.1456\n",
            "Approximate value of pi for 99999 dots: 3.1392\n",
            "Approximate value of pi for 99999 dots: 3.1444\n",
            "Approximate value of pi for 99999 dots: 3.146\n",
            "Approximate value of pi for 99999 dots: 3.1216\n",
            "Approximate value of pi for 99999 dots: 3.1312\n",
            "Approximate value of pi for 99999 dots: 3.0952\n",
            "Approximate value of pi for 99999 dots: 3.1644\n",
            "Approximate value of pi for 99999 dots: 3.1324\n",
            "Approximate value of pi for 99999 dots: 3.1548\n",
            "Approximate value of pi for 99999 dots: 3.1224\n",
            "Approximate value of pi for 99999 dots: 3.1016\n",
            "Approximate value of pi for 99999 dots: 3.1336\n",
            "Approximate value of pi for 99999 dots: 3.1476\n",
            "Approximate value of pi for 99999 dots: 3.1296\n",
            "Approximate value of pi for 99999 dots: 3.1344\n",
            "Approximate value of pi for 99999 dots: 3.1728\n",
            "Approximate value of pi for 99999 dots: 3.1476\n",
            "Approximate value of pi for 99999 dots: 3.102\n",
            "Approximate value of pi for 99999 dots: 3.174\n",
            "Approximate value of pi for 99999 dots: 3.1468\n",
            "Approximate value of pi for 99999 dots: 3.172\n",
            "Approximate value of pi for 99999 dots: 3.1304\n",
            "Approximate value of pi for 99999 dots: 3.1652\n",
            "Approximate value of pi for 99999 dots: 3.1352\n",
            "Approximate value of pi for 99999 dots: 3.1496\n",
            "Approximate value of pi for 99999 dots: 3.1604\n",
            "Approximate value of pi for 99999 dots: 3.156\n",
            "Approximate value of pi for 99999 dots: 3.1548\n",
            "Approximate value of pi for 99999 dots: 3.1304\n",
            "Approximate value of pi for 99999 dots: 3.1332\n",
            "Approximate value of pi for 99999 dots: 3.1412\n",
            "Approximate value of pi for 99999 dots: 3.1332\n",
            "Approximate value of pi for 99999 dots: 3.1612\n",
            "Approximate value of pi for 99999 dots: 3.1576\n",
            "Approximate value of pi for 99999 dots: 3.1484\n",
            "Approximate value of pi for 99999 dots: 3.1356\n",
            "Approximate value of pi for 99999 dots: 3.1456\n",
            "Approximate value of pi for 99999 dots: 3.1576\n",
            "Approximate value of pi for 99999 dots: 3.1236\n",
            "Approximate value of pi for 99999 dots: 3.1596\n",
            "Approximate value of pi for 99999 dots: 3.1848\n",
            "Approximate value of pi for 99999 dots: 3.12\n",
            "Approximate value of pi for 99999 dots: 3.146\n",
            "Approximate value of pi for 99999 dots: 3.1712\n",
            "Approximate value of pi for 99999 dots: 3.1536\n",
            "Approximate value of pi for 99999 dots: 3.1448\n",
            "Approximate value of pi for 99999 dots: 3.1492\n",
            "Approximate value of pi for 99999 dots: 3.1528\n",
            "Approximate value of pi for 99999 dots: 3.1488\n",
            "Approximate value of pi for 99999 dots: 3.1208\n",
            "Approximate value of pi for 99999 dots: 3.1196\n",
            "Approximate value of pi for 99999 dots: 3.152\n",
            "Approximate value of pi for 99999 dots: 3.1424\n",
            "Approximate value of pi for 99999 dots: 3.1224\n",
            "Approximate value of pi for 99999 dots: 3.1476\n",
            "Approximate value of pi for 99999 dots: 3.1412\n",
            "Approximate value of pi for 99999 dots: 3.1384\n",
            "Approximate value of pi for 99999 dots: 3.1488\n",
            "Approximate value of pi for 99999 dots: 3.1444\n",
            "Approximate value of pi for 99999 dots: 3.148\n",
            "Approximate value of pi for 99999 dots: 3.1196\n",
            "Approximate value of pi for 99999 dots: 3.1436\n",
            "Approximate value of pi for 99999 dots: 3.154\n",
            "Approximate value of pi for 99999 dots: 3.1552\n",
            "Approximate value of pi for 99999 dots: 3.1524\n",
            "Approximate value of pi for 99999 dots: 3.1656\n",
            "Approximate value of pi for 99999 dots: 3.1372\n",
            "Approximate value of pi for 99999 dots: 3.1596\n",
            "Approximate value of pi for 99999 dots: 3.1136\n",
            "Approximate value of pi for 99999 dots: 3.1188\n",
            "Approximate value of pi for 99999 dots: 3.1188\n",
            "Approximate value of pi for 99999 dots: 3.1552\n",
            "Approximate value of pi for 99999 dots: 3.1356\n",
            "Approximate value of pi for 99999 dots: 3.1764\n",
            "Approximate value of pi for 99999 dots: 3.1296\n",
            "Approximate value of pi for 99999 dots: 3.1244\n",
            "Approximate value of pi for 99999 dots: 3.1636\n",
            "Approximate value of pi for 99999 dots: 3.1764\n",
            "Approximate value of pi for 99999 dots: 3.1612\n",
            "Approximate value of pi for 99999 dots: 3.15\n",
            "Approximate value of pi for 99999 dots: 3.1324\n",
            "Approximate value of pi for 99999 dots: 3.1792\n",
            "Approximate value of pi for 99999 dots: 3.1264\n",
            "Approximate value of pi for 99999 dots: 3.1312\n",
            "Approximate value of pi for 99999 dots: 3.1152\n",
            "Approximate value of pi for 99999 dots: 3.1684\n",
            "Approximate value of pi for 99999 dots: 3.1816\n",
            "Approximate value of pi for 99999 dots: 3.1272\n",
            "Approximate value of pi for 99999 dots: 3.152\n",
            "Approximate value of pi for 99999 dots: 3.1744\n",
            "Approximate value of pi for 99999 dots: 3.1292\n",
            "Approximate value of pi for 99999 dots: 3.1296\n",
            "Approximate value of pi for 99999 dots: 3.1184\n",
            "Approximate value of pi for 99999 dots: 3.1288\n",
            "Approximate value of pi for 99999 dots: 3.1492\n",
            "Approximate value of pi for 99999 dots: 3.1312\n",
            "Approximate value of pi for 99999 dots: 3.156\n",
            "Approximate value of pi for 99999 dots: 3.1424\n",
            "Approximate value of pi for 99999 dots: 3.1476\n",
            "Approximate value of pi for 99999 dots: 3.1292\n",
            "Approximate value of pi for 99999 dots: 3.1616\n",
            "Approximate value of pi for 99999 dots: 3.1464\n",
            "Approximate value of pi for 99999 dots: 3.1236\n",
            "Approximate value of pi for 99999 dots: 3.1124\n",
            "Approximate value of pi for 99999 dots: 3.1444\n",
            "Approximate value of pi for 99999 dots: 3.1408\n",
            "Approximate value of pi for 99999 dots: 3.1256\n",
            "Approximate value of pi for 99999 dots: 3.1432\n",
            "Approximate value of pi for 99999 dots: 3.1644\n",
            "Approximate value of pi for 99999 dots: 3.1512\n",
            "Approximate value of pi for 99999 dots: 3.166\n",
            "Approximate value of pi for 99999 dots: 3.1324\n",
            "Approximate value of pi for 99999 dots: 3.1604\n",
            "Approximate value of pi for 99999 dots: 3.162\n",
            "Approximate value of pi for 99999 dots: 3.1544\n",
            "Approximate value of pi for 99999 dots: 3.1212\n",
            "Approximate value of pi for 99999 dots: 3.1468\n",
            "Approximate value of pi for 99999 dots: 3.1336\n",
            "Approximate value of pi for 99999 dots: 3.1456\n",
            "Approximate value of pi for 99999 dots: 3.1488\n",
            "Approximate value of pi for 99999 dots: 3.1428\n",
            "Approximate value of pi for 99999 dots: 3.1436\n",
            "Approximate value of pi for 99999 dots: 3.1624\n",
            "Approximate value of pi for 99999 dots: 3.156\n",
            "Approximate value of pi for 99999 dots: 3.136\n",
            "Approximate value of pi for 99999 dots: 3.1088\n",
            "Approximate value of pi for 99999 dots: 3.1508\n",
            "Approximate value of pi for 99999 dots: 3.0732\n",
            "Approximate value of pi for 99999 dots: 3.1328\n",
            "Approximate value of pi for 99999 dots: 3.1504\n",
            "Approximate value of pi for 99999 dots: 3.1368\n",
            "Approximate value of pi for 99999 dots: 3.1748\n",
            "Approximate value of pi for 99999 dots: 3.1424\n",
            "Approximate value of pi for 99999 dots: 3.1512\n",
            "Approximate value of pi for 99999 dots: 3.1452\n",
            "Approximate value of pi for 99999 dots: 3.1204\n",
            "Approximate value of pi for 99999 dots: 3.14\n",
            "Approximate value of pi for 99999 dots: 3.128\n",
            "Approximate value of pi for 99999 dots: 3.1372\n",
            "Approximate value of pi for 99999 dots: 3.1412\n",
            "Approximate value of pi for 99999 dots: 3.1468\n",
            "Approximate value of pi for 99999 dots: 3.1056\n",
            "Approximate value of pi for 99999 dots: 3.138\n",
            "Approximate value of pi for 99999 dots: 3.1376\n",
            "Approximate value of pi for 99999 dots: 3.1332\n",
            "Approximate value of pi for 99999 dots: 3.1352\n",
            "Approximate value of pi for 99999 dots: 3.15\n",
            "Approximate value of pi for 99999 dots: 3.1532\n",
            "Approximate value of pi for 99999 dots: 3.1568\n",
            "Approximate value of pi for 99999 dots: 3.1484\n",
            "Approximate value of pi for 99999 dots: 3.1228\n",
            "Approximate value of pi for 99999 dots: 3.1196\n",
            "Approximate value of pi for 99999 dots: 3.1336\n",
            "Approximate value of pi for 99999 dots: 3.1724\n",
            "Approximate value of pi for 99999 dots: 3.1228\n",
            "Approximate value of pi for 99999 dots: 3.1356\n",
            "Approximate value of pi for 99999 dots: 3.1328\n",
            "Approximate value of pi for 99999 dots: 3.1296\n",
            "Approximate value of pi for 99999 dots: 3.1252\n",
            "Approximate value of pi for 99999 dots: 3.1084\n",
            "Approximate value of pi for 99999 dots: 3.15\n",
            "Approximate value of pi for 99999 dots: 3.1584\n",
            "Approximate value of pi for 99999 dots: 3.1224\n",
            "Approximate value of pi for 99999 dots: 3.1192\n",
            "Approximate value of pi for 99999 dots: 3.1348\n",
            "Approximate value of pi for 99999 dots: 3.126\n",
            "Approximate value of pi for 99999 dots: 3.128\n",
            "Approximate value of pi for 99999 dots: 3.156\n",
            "Approximate value of pi for 99999 dots: 3.1176\n",
            "Approximate value of pi for 99999 dots: 3.1512\n",
            "Approximate value of pi for 99999 dots: 3.1356\n",
            "Approximate value of pi for 99999 dots: 3.1408\n",
            "Approximate value of pi for 99999 dots: 3.1208\n",
            "Approximate value of pi for 99999 dots: 3.1284\n",
            "Approximate value of pi for 99999 dots: 3.1784\n",
            "Approximate value of pi for 99999 dots: 3.1628\n",
            "Approximate value of pi for 99999 dots: 3.138\n",
            "Approximate value of pi for 99999 dots: 3.1516\n",
            "Approximate value of pi for 99999 dots: 3.1316\n",
            "Approximate value of pi for 99999 dots: 3.118\n",
            "Approximate value of pi for 99999 dots: 3.1248\n",
            "Approximate value of pi for 99999 dots: 3.1796\n",
            "Approximate value of pi for 99999 dots: 3.11\n",
            "Approximate value of pi for 99999 dots: 3.1448\n",
            "Approximate value of pi for 99999 dots: 3.1476\n",
            "Approximate value of pi for 99999 dots: 3.1212\n",
            "Approximate value of pi for 99999 dots: 3.1372\n",
            "Approximate value of pi for 99999 dots: 3.128\n",
            "Approximate value of pi for 99999 dots: 3.1636\n",
            "Approximate value of pi for 99999 dots: 3.1308\n",
            "Approximate value of pi for 99999 dots: 3.1196\n",
            "Approximate value of pi for 99999 dots: 3.1716\n",
            "Approximate value of pi for 99999 dots: 3.1568\n",
            "Approximate value of pi for 99999 dots: 3.1304\n",
            "Approximate value of pi for 99999 dots: 3.1368\n",
            "Approximate value of pi for 99999 dots: 3.1504\n",
            "Approximate value of pi for 99999 dots: 3.1436\n",
            "Approximate value of pi for 99999 dots: 3.1308\n",
            "Approximate value of pi for 99999 dots: 3.1724\n",
            "Approximate value of pi for 99999 dots: 3.1508\n",
            "Approximate value of pi for 99999 dots: 3.1428\n",
            "Approximate value of pi for 99999 dots: 3.1448\n",
            "Approximate value of pi for 99999 dots: 3.1524\n",
            "Approximate value of pi for 99999 dots: 3.1728\n",
            "Approximate value of pi for 99999 dots: 3.138\n",
            "Approximate value of pi for 99999 dots: 3.114\n",
            "Approximate value of pi for 99999 dots: 3.1456\n",
            "Approximate value of pi for 99999 dots: 3.1372\n",
            "Approximate value of pi for 99999 dots: 3.1332\n",
            "Approximate value of pi for 99999 dots: 3.1628\n",
            "Approximate value of pi for 99999 dots: 3.12\n",
            "Approximate value of pi for 99999 dots: 3.1348\n",
            "Approximate value of pi for 99999 dots: 3.1428\n",
            "Approximate value of pi for 99999 dots: 3.1008\n",
            "Approximate value of pi for 99999 dots: 3.1916\n",
            "Approximate value of pi for 99999 dots: 3.142\n",
            "Approximate value of pi for 99999 dots: 3.1472\n",
            "Approximate value of pi for 99999 dots: 3.1168\n",
            "Approximate value of pi for 99999 dots: 3.128\n",
            "Approximate value of pi for 99999 dots: 3.1532\n",
            "Approximate value of pi for 99999 dots: 3.1524\n",
            "Approximate value of pi for 99999 dots: 3.1636\n",
            "Approximate value of pi for 99999 dots: 3.1176\n",
            "Approximate value of pi for 99999 dots: 3.1044\n",
            "Approximate value of pi for 99999 dots: 3.0936\n",
            "Approximate value of pi for 99999 dots: 3.1312\n",
            "Approximate value of pi for 99999 dots: 3.1512\n",
            "Approximate value of pi for 99999 dots: 3.1372\n",
            "Approximate value of pi for 99999 dots: 3.1448\n",
            "Approximate value of pi for 99999 dots: 3.1172\n",
            "Approximate value of pi for 99999 dots: 3.1292\n",
            "Approximate value of pi for 99999 dots: 3.1076\n",
            "Approximate value of pi for 99999 dots: 3.1352\n",
            "Approximate value of pi for 99999 dots: 3.1536\n",
            "Approximate value of pi for 99999 dots: 3.1436\n",
            "Approximate value of pi for 99999 dots: 3.1112\n",
            "Approximate value of pi for 99999 dots: 3.1604\n",
            "Approximate value of pi for 99999 dots: 3.1796\n",
            "Approximate value of pi for 99999 dots: 3.126\n",
            "Approximate value of pi for 99999 dots: 3.14\n",
            "Approximate value of pi for 99999 dots: 3.118\n",
            "Approximate value of pi for 99999 dots: 3.1236\n",
            "Approximate value of pi for 99999 dots: 3.1368\n",
            "Approximate value of pi for 99999 dots: 3.1448\n",
            "Approximate value of pi for 99999 dots: 3.1584\n",
            "Approximate value of pi for 99999 dots: 3.1424\n",
            "Approximate value of pi for 99999 dots: 3.1504\n",
            "Approximate value of pi for 99999 dots: 3.1452\n",
            "Approximate value of pi for 99999 dots: 3.1444\n",
            "Approximate value of pi for 99999 dots: 3.1408\n",
            "Approximate value of pi for 99999 dots: 3.1676\n",
            "Approximate value of pi for 99999 dots: 3.14\n",
            "Approximate value of pi for 99999 dots: 3.1236\n",
            "Approximate value of pi for 99999 dots: 3.1448\n",
            "Approximate value of pi for 99999 dots: 3.158\n",
            "Approximate value of pi for 99999 dots: 3.1436\n",
            "Approximate value of pi for 99999 dots: 3.1636\n",
            "Approximate value of pi for 99999 dots: 3.1188\n",
            "Approximate value of pi for 99999 dots: 3.1436\n",
            "Approximate value of pi for 99999 dots: 3.1544\n",
            "Approximate value of pi for 99999 dots: 3.1456\n",
            "Approximate value of pi for 99999 dots: 3.1692\n",
            "Approximate value of pi for 99999 dots: 3.128\n",
            "Approximate value of pi for 99999 dots: 3.1416\n",
            "Approximate value of pi for 99999 dots: 3.1388\n",
            "Approximate value of pi for 99999 dots: 3.1468\n",
            "Approximate value of pi for 99999 dots: 3.1236\n",
            "Approximate value of pi for 99999 dots: 3.1332\n",
            "Approximate value of pi for 99999 dots: 3.1736\n",
            "Approximate value of pi for 99999 dots: 3.1472\n",
            "Approximate value of pi for 99999 dots: 3.1492\n",
            "Approximate value of pi for 99999 dots: 3.132\n",
            "Approximate value of pi for 99999 dots: 3.1608\n",
            "Approximate value of pi for 99999 dots: 3.1192\n",
            "Approximate value of pi for 99999 dots: 3.1112\n",
            "Approximate value of pi for 99999 dots: 3.1432\n",
            "Approximate value of pi for 99999 dots: 3.1512\n",
            "Approximate value of pi for 99999 dots: 3.104\n",
            "Approximate value of pi for 99999 dots: 3.1116\n",
            "Approximate value of pi for 99999 dots: 3.1504\n",
            "Approximate value of pi for 99999 dots: 3.1584\n",
            "Approximate value of pi for 99999 dots: 3.166\n",
            "Approximate value of pi for 99999 dots: 3.1256\n",
            "Approximate value of pi for 99999 dots: 3.1232\n",
            "Approximate value of pi for 99999 dots: 3.1568\n",
            "Approximate value of pi for 99999 dots: 3.1472\n",
            "Approximate value of pi for 99999 dots: 3.1396\n",
            "Approximate value of pi for 99999 dots: 3.1112\n",
            "Approximate value of pi for 99999 dots: 3.1488\n",
            "Approximate value of pi for 99999 dots: 3.1604\n",
            "Approximate value of pi for 99999 dots: 3.146\n",
            "Approximate value of pi for 99999 dots: 3.1308\n",
            "Approximate value of pi for 99999 dots: 3.1296\n",
            "Approximate value of pi for 99999 dots: 3.1408\n",
            "Approximate value of pi for 99999 dots: 3.1184\n",
            "Approximate value of pi for 99999 dots: 3.1516\n",
            "Approximate value of pi for 99999 dots: 3.134\n",
            "Approximate value of pi for 99999 dots: 3.1636\n",
            "Approximate value of pi for 99999 dots: 3.15\n",
            "Approximate value of pi for 99999 dots: 3.1284\n",
            "Approximate value of pi for 99999 dots: 3.1532\n",
            "Approximate value of pi for 99999 dots: 3.1408\n",
            "Approximate value of pi for 99999 dots: 3.154\n",
            "Approximate value of pi for 99999 dots: 3.1612\n",
            "Approximate value of pi for 99999 dots: 3.1312\n",
            "Approximate value of pi for 99999 dots: 3.1448\n"
          ]
        },
        {
          "output_type": "display_data",
          "data": {
            "text/plain": [
              "<Figure size 432x288 with 1 Axes>"
            ],
            "image/png": "[encoded data removed]"
          },
          "metadata": {
            "needs_background": "light"
          }
        },
        {
          "output_type": "stream",
          "name": "stdout",
          "text": [
            "The rms width is now half as big\n"
          ]
        }
      ],
      "source": [
        "# ANSWER HERE\n",
        "storedVals = []\n",
        "for i in range(1000):\n",
        "    in_circle = 0\n",
        "    n1 = 10000\n",
        "    for i in range(n1):\n",
        "        x = np.random.random() *1 - 0.5\n",
        "        y = np.random.random() *1 - 0.5\n",
        "        if x**2 + y**2 <= 0.5**2:\n",
        "            in_circle += 1\n",
        "\n",
        "    pi_approx = (in_circle/n1) * 4\n",
        "    storedVals.append(pi_approx)\n",
        "    print(f\"Approximate value of pi for {n} dots: {pi_approx}\")\n",
        "plt.hist(storedVals)\n",
        "plt.show()\n",
        "print(\"The rms width is now half as big\")"
      ]
    },
    {
      "cell_type": "markdown",
      "metadata": {
        "id": "JjxMNyTJtX8T"
      },
      "source": [
        "<img src=\"https://courses.physics.illinois.edu/phys246/fa2022/img/AnsEnd.svg\" width=200 align=left></img><br>"
      ]
    },
    {
      "cell_type": "markdown",
      "metadata": {
        "id": "biA_HwJVtX8T"
      },
      "source": [
        "## Exercise 4: Buffon's Needle (EC) (Extra Credit: 10 points)"
      ]
    },
    {
      "cell_type": "markdown",
      "metadata": {
        "id": "jvQZ9K7gtX8T"
      },
      "source": [
        "* **List of collaborators:**\n",
        "\n",
        "* **References you used in developing your code:**"
      ]
    },
    {
      "cell_type": "markdown",
      "metadata": {
        "id": "CxYcwtMMtX8T"
      },
      "source": [
        "Read about Buffon's needle and implement a simulation of it to get $\\pi$."
      ]
    },
    {
      "cell_type": "markdown",
      "metadata": {
        "id": "6_gYDNk-tX8T"
      },
      "source": [
        "**Acknowledgements:** \n",
        "* Ex. 1,3 originally developed by George Gollin\n",
        "* Ex. 2 developed by Bryan Clark\n",
        "\n",
        "© Copyright 2022"
      ]
    },
    {
      "cell_type": "markdown",
      "metadata": {
        "id": "IsOLnlb2tX8T"
      },
      "source": [
        "<span id=“fn1”><sup>1</sup>http://mathworld.wolfram.com/PiFormulas.html </span>\n",
        "\n",
        "<span id=“fn2”><sup>2</sup>performed by computer simulation; by silicon</span>"
      ]
    },
    {
      "cell_type": "code",
      "execution_count": 11,
      "metadata": {
        "colab": {
          "base_uri": "https://localhost:8080/",
          "height": 240
        },
        "id": "B-dn4dBqtX8T",
        "outputId": "84b6e2e1-7d28-484f-f220-c66eb223c078"
      },
      "outputs": [
        {
          "output_type": "error",
          "ename": "NameError",
          "evalue": "ignored",
          "traceback": [
            "\u001b[0;31m---------------------------------------------------------------------------\u001b[0m",
            "\u001b[0;31mNameError\u001b[0m                                 Traceback (most recent call last)",
            "\u001b[0;32m<ipython-input-11-aa5596d202fa>\u001b[0m in \u001b[0;36m<module>\u001b[0;34m\u001b[0m\n\u001b[0;32m----> 1\u001b[0;31m \u001b[0mself\u001b[0m\u001b[0;34m.\u001b[0m\u001b[0mx\u001b[0m \u001b[0;34m=\u001b[0m \u001b[0mfloat\u001b[0m\u001b[0;34m(\u001b[0m\u001b[0mx\u001b[0m\u001b[0;34m)\u001b[0m  \u001b[0;31m#width of the needle\u001b[0m\u001b[0;34m\u001b[0m\u001b[0;34m\u001b[0m\u001b[0m\n\u001b[0m\u001b[1;32m      2\u001b[0m \u001b[0mself\u001b[0m\u001b[0;34m.\u001b[0m\u001b[0my\u001b[0m \u001b[0;34m=\u001b[0m \u001b[0mfloat\u001b[0m\u001b[0;34m(\u001b[0m\u001b[0my\u001b[0m\u001b[0;34m)\u001b[0m  \u001b[0;31m#witdh of the space\u001b[0m\u001b[0;34m\u001b[0m\u001b[0;34m\u001b[0m\u001b[0m\n\u001b[1;32m      3\u001b[0m \u001b[0mself\u001b[0m\u001b[0;34m.\u001b[0m\u001b[0mr\u001b[0m \u001b[0;34m=\u001b[0m \u001b[0;34m[\u001b[0m\u001b[0;34m]\u001b[0m \u001b[0;31m#coordinated of the centre of the needle\u001b[0m\u001b[0;34m\u001b[0m\u001b[0;34m\u001b[0m\u001b[0m\n\u001b[1;32m      4\u001b[0m \u001b[0mself\u001b[0m\u001b[0;34m.\u001b[0m\u001b[0mz\u001b[0m \u001b[0;34m=\u001b[0m \u001b[0;34m[\u001b[0m\u001b[0;34m]\u001b[0m\u001b[0;34m\u001b[0m\u001b[0;34m\u001b[0m\u001b[0m\n\u001b[1;32m      5\u001b[0m \u001b[0;34m\u001b[0m\u001b[0m\n",
            "\u001b[0;31mNameError\u001b[0m: name 'self' is not defined"
          ]
        }
      ],
      "source": [
        "self.x = float(x)  #width of the needle\n",
        "self.y = float(y)  #witdh of the space\n",
        "self.r = [] #coordinated of the centre of the needle\n",
        "self.z = []\n",
        "\n",
        "def samples(self):\n",
        "    # throwing the needles\n",
        "    for i in range(self.n):\n",
        "        self.r.append(np.random.uniform(0,self.y))\n",
        "        \n",
        "        \n",
        "print(\"References: \")"
      ]
    },
    {
      "cell_type": "code",
      "execution_count": null,
      "metadata": {
        "id": "IWvRYNaqtX8T"
      },
      "outputs": [],
      "source": []
    },
    {
      "cell_type": "code",
      "execution_count": null,
      "metadata": {
        "id": "6yUHqc1_tX8T"
      },
      "outputs": [],
      "source": []
    }
  ],
  "metadata": {
    "kernelspec": {
      "display_name": "Python 3",
      "language": "python",
      "name": "python3"
    },
    "language_info": {
      "codemirror_mode": {
        "name": "ipython",
        "version": 3
      },
      "file_extension": ".py",
      "mimetype": "text/x-python",
      "name": "python",
      "nbconvert_exporter": "python",
      "pygments_lexer": "ipython3",
      "version": "3.8.5"
    },
    "toc": {
      "nav_menu": {},
      "number_sections": true,
      "sideBar": true,
      "skip_h1_title": true,
      "toc_cell": false,
      "toc_position": {},
      "toc_section_display": "block",
      "toc_window_display": false
    },
    "varInspector": {
      "cols": {
        "lenName": 16,
        "lenType": 16,
        "lenVar": 40
      },
      "kernels_config": {
        "python": {
          "delete_cmd_postfix": "",
          "delete_cmd_prefix": "del ",
          "library": "var_list.py",
          "varRefreshCmd": "print(var_dic_list())"
        },
        "r": {
          "delete_cmd_postfix": ") ",
          "delete_cmd_prefix": "rm(",
          "library": "var_list.r",
          "varRefreshCmd": "cat(var_dic_list()) "
        }
      },
      "types_to_exclude": [
        "module",
        "function",
        "builtin_function_or_method",
        "instance",
        "_Feature"
      ],
      "window_display": false
    },
    "vscode": {
      "interpreter": {
        "hash": "aee8b7b246df8f9039afb4144a1f6fd8d2ca17a180786b69acc140d282b71a49"
      }
    },
    "colab": {
      "provenance": [],
      "include_colab_link": true
    }
  },
  "nbformat": 4,
  "nbformat_minor": 0
}